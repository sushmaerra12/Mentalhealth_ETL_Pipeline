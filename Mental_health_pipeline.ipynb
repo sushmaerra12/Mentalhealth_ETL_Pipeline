{
 "cells": [
  {
   "cell_type": "code",
   "execution_count": 0,
   "metadata": {
    "application/vnd.databricks.v1+cell": {
     "cellMetadata": {
      "byteLimit": 2048000,
      "rowLimit": 10000
     },
     "inputWidgets": {},
     "nuid": "47978bad-41d1-47f2-a95d-91886c0b9f41",
     "showTitle": false,
     "tableResultSettingsMap": {},
     "title": ""
    }
   },
   "outputs": [],
   "source": [
    "\n",
    "\n",
    "df1 = spark.read.format(\"csv\").option(\"header\", \"true\").load(\"dbfs:/FileStore/shared_uploads/sushmauppalapati12@gmail.com/anxiety_depression_data-2.csv\")"
   ]
  },
  {
   "cell_type": "code",
   "execution_count": 0,
   "metadata": {
    "application/vnd.databricks.v1+cell": {
     "cellMetadata": {
      "byteLimit": 2048000,
      "implicitDf": true,
      "rowLimit": 10000
     },
     "inputWidgets": {},
     "nuid": "c8ba9063-94ed-4a9a-94da-8bd8595c2ef2",
     "showTitle": false,
     "tableResultSettingsMap": {},
     "title": ""
    }
   },
   "outputs": [
    {
     "output_type": "stream",
     "name": "stdout",
     "output_type": "stream",
     "text": [
      "+---+------+---------------+-----------------+-----------+---------------------+--------------------+-------------+----------------+------------+-----------------------------+-----------------+--------------+-------+----------+-------------+----------------+-----------+-----------------+-----------------------+----------------+\n|Age|Gender|Education_Level|Employment_Status|Sleep_Hours|Physical_Activity_Hrs|Social_Support_Score|Anxiety_Score|Depression_Score|Stress_Level|Family_History_Mental_Illness|Chronic_Illnesses|Medication_Use|Therapy|Meditation|Substance_Use|Financial_Stress|Work_Stress|Self_Esteem_Score|Life_Satisfaction_Score|Loneliness_Score|\n+---+------+---------------+-----------------+-----------+---------------------+--------------------+-------------+----------------+------------+-----------------------------+-----------------+--------------+-------+----------+-------------+----------------+-----------+-----------------+-----------------------+----------------+\n| 56|  Male|     Bachelor's|       Unemployed|        6.0|                  0.4|                   3|            4|               2|           9|                            0|                0|          None|      0|         1|         None|               4|          3|                7|                      5|               1|\n| 69|Female|     Bachelor's|          Retired|        8.8|                  2.8|                   6|           18|               7|           6|                            0|                0|          None|      1|         0|         None|               1|          4|                7|                      4|               6|\n| 46|Female|       Master's|         Employed|        5.3|                  1.6|                   5|            5|              13|           8|                            0|                0|          None|      0|         1|         None|               8|          7|                8|                      1|               1|\n| 32|Female|    High School|       Unemployed|        8.8|                  0.5|                   4|            6|               3|           4|                            1|                1|          None|      0|         0|         None|               7|          4|                8|                      4|               4|\n| 60|Female|     Bachelor's|          Retired|        7.2|                  0.7|                   2|            7|              15|           3|                            0|                0|          None|      1|         1|     Frequent|               8|          9|                5|                      7|               7|\n+---+------+---------------+-----------------+-----------+---------------------+--------------------+-------------+----------------+------------+-----------------------------+-----------------+--------------+-------+----------+-------------+----------------+-----------+-----------------+-----------------------+----------------+\nonly showing top 5 rows\n\n"
     ]
    }
   ],
   "source": [
    "\n",
    "df1.show(5)"
   ]
  },
  {
   "cell_type": "code",
   "execution_count": 0,
   "metadata": {
    "application/vnd.databricks.v1+cell": {
     "cellMetadata": {
      "byteLimit": 2048000,
      "rowLimit": 10000
     },
     "inputWidgets": {},
     "nuid": "c7ea4cf6-82b1-43f3-8af2-b8d207dd824b",
     "showTitle": false,
     "tableResultSettingsMap": {},
     "title": ""
    }
   },
   "outputs": [
    {
     "output_type": "stream",
     "name": "stdout",
     "output_type": "stream",
     "text": [
      "root\n |-- Age: string (nullable = true)\n |-- Gender: string (nullable = true)\n |-- Education_Level: string (nullable = true)\n |-- Employment_Status: string (nullable = true)\n |-- Sleep_Hours: string (nullable = true)\n |-- Physical_Activity_Hrs: string (nullable = true)\n |-- Social_Support_Score: string (nullable = true)\n |-- Anxiety_Score: string (nullable = true)\n |-- Depression_Score: string (nullable = true)\n |-- Stress_Level: string (nullable = true)\n |-- Family_History_Mental_Illness: string (nullable = true)\n |-- Chronic_Illnesses: string (nullable = true)\n |-- Medication_Use: string (nullable = true)\n |-- Therapy: string (nullable = true)\n |-- Meditation: string (nullable = true)\n |-- Substance_Use: string (nullable = true)\n |-- Financial_Stress: string (nullable = true)\n |-- Work_Stress: string (nullable = true)\n |-- Self_Esteem_Score: string (nullable = true)\n |-- Life_Satisfaction_Score: string (nullable = true)\n |-- Loneliness_Score: string (nullable = true)\n\n"
     ]
    }
   ],
   "source": [
    "df1.printSchema()"
   ]
  },
  {
   "cell_type": "code",
   "execution_count": 0,
   "metadata": {
    "application/vnd.databricks.v1+cell": {
     "cellMetadata": {
      "byteLimit": 2048000,
      "rowLimit": 10000
     },
     "inputWidgets": {},
     "nuid": "3875e0b4-9b89-470d-adbb-0a5105d6bcef",
     "showTitle": false,
     "tableResultSettingsMap": {},
     "title": ""
    }
   },
   "outputs": [
    {
     "output_type": "stream",
     "name": "stdout",
     "output_type": "stream",
     "text": [
      "+-------+-----------------+------+---------------+-----------------+------------------+---------------------+--------------------+-----------------+------------------+------------------+-----------------------------+------------------+--------------+-------------------+-------------------+-------------+-----------------+-----------------+-----------------+-----------------------+------------------+\n|summary|              Age|Gender|Education_Level|Employment_Status|       Sleep_Hours|Physical_Activity_Hrs|Social_Support_Score|    Anxiety_Score|  Depression_Score|      Stress_Level|Family_History_Mental_Illness| Chronic_Illnesses|Medication_Use|            Therapy|         Meditation|Substance_Use| Financial_Stress|      Work_Stress|Self_Esteem_Score|Life_Satisfaction_Score|  Loneliness_Score|\n+-------+-----------------+------+---------------+-----------------+------------------+---------------------+--------------------+-----------------+------------------+------------------+-----------------------------+------------------+--------------+-------------------+-------------------+-------------+-----------------+-----------------+-----------------+-----------------------+------------------+\n|  count|             1200|  1200|           1200|             1200|              1200|                 1200|                1200|             1200|              1200|              1200|                         1200|              1200|          1200|               1200|               1200|         1200|             1200|             1200|             1200|                   1200|              1200|\n|   mean|          46.3175|  null|           null|             null| 6.468999999999996|    2.005749999999999|               5.055|            10.47|10.674166666666666|5.0008333333333335|          0.31833333333333336|            0.2675|          null|               0.21|0.39916666666666667|         null|           4.9925|4.889166666666667|           5.0625|                   5.12|4.9591666666666665|\n| stddev|16.45115682510109|  null|           null|             null|1.5295495856446732|   2.0378180789598925|   2.652892735591748|5.911137901685593|  5.63288917927357|2.5382805917637095|           0.4660238234886044|0.4428398950454551|          null|0.40747805499734635| 0.4899312871318262|         null|2.590953096505269|2.547015648325748|2.531587353573638|      2.569909926604248| 2.566382909840649|\n|    min|               18|Female|     Bachelor's|         Employed|              10.0|                  0.0|                   1|                1|                 1|                 1|                            0|                 0|          None|                  0|                  0|     Frequent|                1|                1|                1|                      1|                 1|\n|    max|               74| Other|            PhD|       Unemployed|               9.9|                  9.6|                   9|                9|                 9|                 9|                            1|                 1|       Regular|                  1|                  1|   Occasional|                9|                9|                9|                      9|                 9|\n+-------+-----------------+------+---------------+-----------------+------------------+---------------------+--------------------+-----------------+------------------+------------------+-----------------------------+------------------+--------------+-------------------+-------------------+-------------+-----------------+-----------------+-----------------+-----------------------+------------------+\n\n"
     ]
    }
   ],
   "source": [
    "df1.describe().show()"
   ]
  },
  {
   "cell_type": "code",
   "execution_count": 0,
   "metadata": {
    "application/vnd.databricks.v1+cell": {
     "cellMetadata": {
      "byteLimit": 2048000,
      "rowLimit": 10000
     },
     "inputWidgets": {},
     "nuid": "35761516-1aaf-4267-ac10-158f36f2f8b9",
     "showTitle": false,
     "tableResultSettingsMap": {},
     "title": ""
    }
   },
   "outputs": [
    {
     "output_type": "stream",
     "name": "stdout",
     "output_type": "stream",
     "text": [
      "+-----+------+---------------+-----------------+-----------+---------------------+--------------------+-------------+----------------+------------+-----------------------------+-----------------+--------------+-------+----------+-------------+----------------+-----------+-----------------+-----------------------+----------------+\n|  Age|Gender|Education_Level|Employment_Status|Sleep_Hours|Physical_Activity_Hrs|Social_Support_Score|Anxiety_Score|Depression_Score|Stress_Level|Family_History_Mental_Illness|Chronic_Illnesses|Medication_Use|Therapy|Meditation|Substance_Use|Financial_Stress|Work_Stress|Self_Esteem_Score|Life_Satisfaction_Score|Loneliness_Score|\n+-----+------+---------------+-----------------+-----------+---------------------+--------------------+-------------+----------------+------------+-----------------------------+-----------------+--------------+-------+----------+-------------+----------------+-----------+-----------------+-----------------------+----------------+\n|false| false|          false|            false|      false|                false|               false|        false|           false|       false|                        false|            false|         false|  false|     false|        false|           false|      false|            false|                  false|           false|\n|false| false|          false|            false|      false|                false|               false|        false|           false|       false|                        false|            false|         false|  false|     false|        false|           false|      false|            false|                  false|           false|\n|false| false|          false|            false|      false|                false|               false|        false|           false|       false|                        false|            false|         false|  false|     false|        false|           false|      false|            false|                  false|           false|\n|false| false|          false|            false|      false|                false|               false|        false|           false|       false|                        false|            false|         false|  false|     false|        false|           false|      false|            false|                  false|           false|\n|false| false|          false|            false|      false|                false|               false|        false|           false|       false|                        false|            false|         false|  false|     false|        false|           false|      false|            false|                  false|           false|\n|false| false|          false|            false|      false|                false|               false|        false|           false|       false|                        false|            false|         false|  false|     false|        false|           false|      false|            false|                  false|           false|\n|false| false|          false|            false|      false|                false|               false|        false|           false|       false|                        false|            false|         false|  false|     false|        false|           false|      false|            false|                  false|           false|\n|false| false|          false|            false|      false|                false|               false|        false|           false|       false|                        false|            false|         false|  false|     false|        false|           false|      false|            false|                  false|           false|\n|false| false|          false|            false|      false|                false|               false|        false|           false|       false|                        false|            false|         false|  false|     false|        false|           false|      false|            false|                  false|           false|\n|false| false|          false|            false|      false|                false|               false|        false|           false|       false|                        false|            false|         false|  false|     false|        false|           false|      false|            false|                  false|           false|\n|false| false|          false|            false|      false|                false|               false|        false|           false|       false|                        false|            false|         false|  false|     false|        false|           false|      false|            false|                  false|           false|\n|false| false|          false|            false|      false|                false|               false|        false|           false|       false|                        false|            false|         false|  false|     false|        false|           false|      false|            false|                  false|           false|\n|false| false|          false|            false|      false|                false|               false|        false|           false|       false|                        false|            false|         false|  false|     false|        false|           false|      false|            false|                  false|           false|\n|false| false|          false|            false|      false|                false|               false|        false|           false|       false|                        false|            false|         false|  false|     false|        false|           false|      false|            false|                  false|           false|\n|false| false|          false|            false|      false|                false|               false|        false|           false|       false|                        false|            false|         false|  false|     false|        false|           false|      false|            false|                  false|           false|\n|false| false|          false|            false|      false|                false|               false|        false|           false|       false|                        false|            false|         false|  false|     false|        false|           false|      false|            false|                  false|           false|\n|false| false|          false|            false|      false|                false|               false|        false|           false|       false|                        false|            false|         false|  false|     false|        false|           false|      false|            false|                  false|           false|\n|false| false|          false|            false|      false|                false|               false|        false|           false|       false|                        false|            false|         false|  false|     false|        false|           false|      false|            false|                  false|           false|\n|false| false|          false|            false|      false|                false|               false|        false|           false|       false|                        false|            false|         false|  false|     false|        false|           false|      false|            false|                  false|           false|\n|false| false|          false|            false|      false|                false|               false|        false|           false|       false|                        false|            false|         false|  false|     false|        false|           false|      false|            false|                  false|           false|\n+-----+------+---------------+-----------------+-----------+---------------------+--------------------+-------------+----------------+------------+-----------------------------+-----------------+--------------+-------+----------+-------------+----------------+-----------+-----------------+-----------------------+----------------+\nonly showing top 20 rows\n\n"
     ]
    }
   ],
   "source": [
    "from pyspark.sql.functions import  col\n",
    "df1.select([col(c).isNull().alias(c) for c in df1.columns]).show()"
   ]
  },
  {
   "cell_type": "code",
   "execution_count": 0,
   "metadata": {
    "application/vnd.databricks.v1+cell": {
     "cellMetadata": {
      "byteLimit": 2048000,
      "rowLimit": 10000
     },
     "inputWidgets": {},
     "nuid": "8c243622-afcc-4d3f-bd8b-8842658a7c44",
     "showTitle": false,
     "tableResultSettingsMap": {},
     "title": ""
    }
   },
   "outputs": [
    {
     "output_type": "stream",
     "name": "stdout",
     "output_type": "stream",
     "text": [
      "+---+------+---------------+-----------------+-----------+---------------------+--------------------+-------------+----------------+------------+-----------------------------+-----------------+--------------+-------+----------+-------------+----------------+-----------+-----------------+-----------------------+----------------+\n|Age|Gender|Education_Level|Employment_Status|Sleep_Hours|Physical_Activity_Hrs|Social_Support_Score|Anxiety_Score|Depression_Score|Stress_Level|Family_History_Mental_Illness|Chronic_Illnesses|Medication_Use|Therapy|Meditation|Substance_Use|Financial_Stress|Work_Stress|Self_Esteem_Score|Life_Satisfaction_Score|Loneliness_Score|\n+---+------+---------------+-----------------+-----------+---------------------+--------------------+-------------+----------------+------------+-----------------------------+-----------------+--------------+-------+----------+-------------+----------------+-----------+-----------------+-----------------------+----------------+\n|  0|     0|              0|                0|          0|                    0|                   0|            0|               0|           0|                            0|                0|             0|      0|         0|            0|               0|          0|                0|                      0|               0|\n+---+------+---------------+-----------------+-----------+---------------------+--------------------+-------------+----------------+------------+-----------------------------+-----------------+--------------+-------+----------+-------------+----------------+-----------+-----------------+-----------------------+----------------+\n\n"
     ]
    }
   ],
   "source": [
    "from pyspark.sql.functions import sum\n",
    "df1.select([sum(col(c).isNull().cast(\"int\")).alias(c) for c in df1.columns]).show()"
   ]
  },
  {
   "cell_type": "code",
   "execution_count": 0,
   "metadata": {
    "application/vnd.databricks.v1+cell": {
     "cellMetadata": {
      "byteLimit": 2048000,
      "rowLimit": 10000
     },
     "inputWidgets": {},
     "nuid": "fc3f4d85-4b39-4905-be12-fb623efab26a",
     "showTitle": false,
     "tableResultSettingsMap": {},
     "title": ""
    }
   },
   "outputs": [
    {
     "output_type": "stream",
     "name": "stdout",
     "output_type": "stream",
     "text": [
      "+----------+\n|    Gender|\n+----------+\n|    Female|\n|     Other|\n|Non-Binary|\n|      Male|\n+----------+\n\n"
     ]
    }
   ],
   "source": [
    "df1.select(\"Gender\").distinct().show()\n"
   ]
  },
  {
   "cell_type": "code",
   "execution_count": 0,
   "metadata": {
    "application/vnd.databricks.v1+cell": {
     "cellMetadata": {
      "byteLimit": 2048000,
      "rowLimit": 10000
     },
     "inputWidgets": {},
     "nuid": "bf9490f0-5ba9-4bff-9a4d-9ff30a858ce7",
     "showTitle": false,
     "tableResultSettingsMap": {},
     "title": ""
    }
   },
   "outputs": [
    {
     "output_type": "stream",
     "name": "stdout",
     "output_type": "stream",
     "text": [
      "Out[14]: [('Age', 'string'),\n ('Gender', 'string'),\n ('Education_Level', 'string'),\n ('Employment_Status', 'string'),\n ('Sleep_Hours', 'string'),\n ('Physical_Activity_Hrs', 'string'),\n ('Social_Support_Score', 'string'),\n ('Anxiety_Score', 'string'),\n ('Depression_Score', 'string'),\n ('Stress_Level', 'string'),\n ('Family_History_Mental_Illness', 'string'),\n ('Chronic_Illnesses', 'string'),\n ('Medication_Use', 'string'),\n ('Therapy', 'string'),\n ('Meditation', 'string'),\n ('Substance_Use', 'string'),\n ('Financial_Stress', 'string'),\n ('Work_Stress', 'string'),\n ('Self_Esteem_Score', 'string'),\n ('Life_Satisfaction_Score', 'string'),\n ('Loneliness_Score', 'string')]"
     ]
    }
   ],
   "source": [
    "df1.dtypes"
   ]
  },
  {
   "cell_type": "code",
   "execution_count": 0,
   "metadata": {
    "application/vnd.databricks.v1+cell": {
     "cellMetadata": {
      "byteLimit": 2048000,
      "rowLimit": 10000
     },
     "inputWidgets": {},
     "nuid": "e16feac1-3781-4fa7-b3bc-43b2a1b46240",
     "showTitle": false,
     "tableResultSettingsMap": {},
     "title": ""
    }
   },
   "outputs": [],
   "source": [
    "from pyspark.sql.functions import when\n",
    "\n",
    "df1 = df1.withColumn(\"Gender_Code\", \n",
    "    when(df1[\"Gender\"] == \"male\", 0)\n",
    "   .when(df1[\"Gender\"] == \"female\", 1)\n",
    "   .otherwise(2))\n"
   ]
  },
  {
   "cell_type": "code",
   "execution_count": 0,
   "metadata": {
    "application/vnd.databricks.v1+cell": {
     "cellMetadata": {
      "byteLimit": 2048000,
      "rowLimit": 10000
     },
     "inputWidgets": {},
     "nuid": "00c825f7-be19-497a-971e-bf0d28c48320",
     "showTitle": false,
     "tableResultSettingsMap": {},
     "title": ""
    }
   },
   "outputs": [
    {
     "output_type": "stream",
     "name": "stdout",
     "output_type": "stream",
     "text": [
      "Out[17]: [('Age', 'string'),\n ('Gender', 'string'),\n ('Education_Level', 'string'),\n ('Employment_Status', 'string'),\n ('Sleep_Hours', 'string'),\n ('Physical_Activity_Hrs', 'string'),\n ('Social_Support_Score', 'string'),\n ('Anxiety_Score', 'string'),\n ('Depression_Score', 'string'),\n ('Stress_Level', 'string'),\n ('Family_History_Mental_Illness', 'string'),\n ('Chronic_Illnesses', 'string'),\n ('Medication_Use', 'string'),\n ('Therapy', 'string'),\n ('Meditation', 'string'),\n ('Substance_Use', 'string'),\n ('Financial_Stress', 'string'),\n ('Work_Stress', 'string'),\n ('Self_Esteem_Score', 'string'),\n ('Life_Satisfaction_Score', 'string'),\n ('Loneliness_Score', 'string'),\n ('Gender_Code', 'int')]"
     ]
    }
   ],
   "source": [
    "df1.dtypes"
   ]
  },
  {
   "cell_type": "code",
   "execution_count": 0,
   "metadata": {
    "application/vnd.databricks.v1+cell": {
     "cellMetadata": {
      "byteLimit": 2048000,
      "rowLimit": 10000
     },
     "inputWidgets": {},
     "nuid": "183a3002-6f44-470c-b126-2ca7fb601cd2",
     "showTitle": false,
     "tableResultSettingsMap": {},
     "title": ""
    }
   },
   "outputs": [],
   "source": [
    "df1 = df1.withColumn(\"Total_Mental_Health_Score\", \n",
    "    df1[\"Anxiety_Score\"] + df1[\"Depression_Score\"] + df1[\"Stress_Level\"])\n"
   ]
  },
  {
   "cell_type": "code",
   "execution_count": 0,
   "metadata": {
    "application/vnd.databricks.v1+cell": {
     "cellMetadata": {
      "byteLimit": 2048000,
      "rowLimit": 10000
     },
     "inputWidgets": {},
     "nuid": "aee81149-fd87-4735-b99c-b53392e394c6",
     "showTitle": false,
     "tableResultSettingsMap": {},
     "title": ""
    }
   },
   "outputs": [],
   "source": [
    "from pyspark.sql.functions import when\n",
    "\n",
    "df1 = df1.withColumn(\"High_Stress_Flag\", \n",
    "    when(df1[\"Stress_Level\"] > 7, 1).otherwise(0))\n"
   ]
  },
  {
   "cell_type": "code",
   "execution_count": 0,
   "metadata": {
    "application/vnd.databricks.v1+cell": {
     "cellMetadata": {
      "byteLimit": 2048000,
      "rowLimit": 10000
     },
     "inputWidgets": {},
     "nuid": "7c669293-0624-4e8a-80b6-a80b8a2fb81a",
     "showTitle": false,
     "tableResultSettingsMap": {},
     "title": ""
    }
   },
   "outputs": [],
   "source": [
    "df_final = df1.select(\n",
    "    \"Age\", \"Gender_Code\", \"Employment_Status\", \"Anxiety_Score\", \n",
    "    \"Depression_Score\", \"Stress_Level\", \"Total_Mental_Health_Score\", \n",
    "    \"High_Stress_Flag\", \"Life_Satisfaction_Score\"\n",
    ")\n"
   ]
  },
  {
   "cell_type": "code",
   "execution_count": 0,
   "metadata": {
    "application/vnd.databricks.v1+cell": {
     "cellMetadata": {
      "byteLimit": 2048000,
      "rowLimit": 10000
     },
     "inputWidgets": {},
     "nuid": "a90162a0-cf9d-4247-b0fe-0301c9400797",
     "showTitle": false,
     "tableResultSettingsMap": {},
     "title": ""
    }
   },
   "outputs": [],
   "source": [
    "df_final.write \\\n",
    "    .partitionBy(\"Gender_Code\") \\\n",
    "    .mode(\"overwrite\") \\\n",
    "    .parquet(\"/FileStore/tables/cleaned_mental_health_data\")\n"
   ]
  },
  {
   "cell_type": "code",
   "execution_count": 0,
   "metadata": {
    "application/vnd.databricks.v1+cell": {
     "cellMetadata": {
      "byteLimit": 2048000,
      "rowLimit": 10000
     },
     "inputWidgets": {},
     "nuid": "15590d9a-1bc8-484b-a631-414d021a2293",
     "showTitle": false,
     "tableResultSettingsMap": {},
     "title": ""
    }
   },
   "outputs": [
    {
     "output_type": "display_data",
     "data": {
      "text/html": [
       "<style scoped>\n",
       "  .table-result-container {\n",
       "    max-height: 300px;\n",
       "    overflow: auto;\n",
       "  }\n",
       "  table, th, td {\n",
       "    border: 1px solid black;\n",
       "    border-collapse: collapse;\n",
       "  }\n",
       "  th, td {\n",
       "    padding: 5px;\n",
       "  }\n",
       "  th {\n",
       "    text-align: left;\n",
       "  }\n",
       "</style><div class='table-result-container'><table class='table-result'><thead style='background-color: white'><tr><th>path</th><th>name</th><th>size</th><th>modificationTime</th></tr></thead><tbody><tr><td>dbfs:/FileStore/tables/cleaned_mental_health_data/Gender_Code=2/</td><td>Gender_Code=2/</td><td>0</td><td>0</td></tr><tr><td>dbfs:/FileStore/tables/cleaned_mental_health_data/Gender_code=2/</td><td>Gender_code=2/</td><td>0</td><td>0</td></tr><tr><td>dbfs:/FileStore/tables/cleaned_mental_health_data/_SUCCESS</td><td>_SUCCESS</td><td>0</td><td>1742776504000</td></tr><tr><td>dbfs:/FileStore/tables/cleaned_mental_health_data/_committed_6861316898813966659</td><td>_committed_6861316898813966659</td><td>35</td><td>1742776353000</td></tr></tbody></table></div>"
      ]
     },
     "metadata": {
      "application/vnd.databricks.v1+output": {
       "addedWidgets": {},
       "aggData": [],
       "aggError": "",
       "aggOverflow": false,
       "aggSchema": [],
       "aggSeriesLimitReached": false,
       "aggType": "",
       "arguments": {},
       "columnCustomDisplayInfos": {},
       "data": [
        [
         "dbfs:/FileStore/tables/cleaned_mental_health_data/Gender_Code=2/",
         "Gender_Code=2/",
         0,
         0
        ],
        [
         "dbfs:/FileStore/tables/cleaned_mental_health_data/Gender_code=2/",
         "Gender_code=2/",
         0,
         0
        ],
        [
         "dbfs:/FileStore/tables/cleaned_mental_health_data/_SUCCESS",
         "_SUCCESS",
         0,
         1742776504000
        ],
        [
         "dbfs:/FileStore/tables/cleaned_mental_health_data/_committed_6861316898813966659",
         "_committed_6861316898813966659",
         35,
         1742776353000
        ]
       ],
       "datasetInfos": [],
       "dbfsResultPath": null,
       "isJsonSchema": true,
       "metadata": {
        "isDbfsCommandResult": false
       },
       "overflow": false,
       "plotOptions": {
        "customPlotOptions": {},
        "displayType": "table",
        "pivotAggregation": null,
        "pivotColumns": null,
        "xColumns": null,
        "yColumns": null
       },
       "removedWidgets": [],
       "schema": [
        {
         "metadata": "{}",
         "name": "path",
         "type": "\"string\""
        },
        {
         "metadata": "{}",
         "name": "name",
         "type": "\"string\""
        },
        {
         "metadata": "{}",
         "name": "size",
         "type": "\"long\""
        },
        {
         "metadata": "{}",
         "name": "modificationTime",
         "type": "\"long\""
        }
       ],
       "type": "table"
      }
     },
     "output_type": "display_data"
    }
   ],
   "source": [
    "%fs\n",
    "ls /FileStore/tables/cleaned_mental_health_data/\n"
   ]
  },
  {
   "cell_type": "code",
   "execution_count": 0,
   "metadata": {
    "application/vnd.databricks.v1+cell": {
     "cellMetadata": {
      "byteLimit": 2048000,
      "rowLimit": 10000
     },
     "inputWidgets": {},
     "nuid": "4da93df2-2187-4f0d-87cc-e1873f576b89",
     "showTitle": false,
     "tableResultSettingsMap": {},
     "title": ""
    }
   },
   "outputs": [
    {
     "output_type": "stream",
     "name": "stdout",
     "output_type": "stream",
     "text": [
      "+---+-----------------+-------------+----------------+------------+-------------------------+----------------+-----------------------+-----------+\n|Age|Employment_Status|Anxiety_Score|Depression_Score|Stress_Level|Total_Mental_Health_Score|High_Stress_Flag|Life_Satisfaction_Score|Gender_Code|\n+---+-----------------+-------------+----------------+------------+-------------------------+----------------+-----------------------+-----------+\n| 56|       Unemployed|            4|               2|           9|                     15.0|               1|                      5|          2|\n| 69|          Retired|           18|               7|           6|                     31.0|               0|                      4|          2|\n| 46|         Employed|            5|              13|           8|                     26.0|               1|                      1|          2|\n| 32|       Unemployed|            6|               3|           4|                     13.0|               0|                      4|          2|\n| 60|          Retired|            7|              15|           3|                     25.0|               0|                      7|          2|\n+---+-----------------+-------------+----------------+------------+-------------------------+----------------+-----------------------+-----------+\nonly showing top 5 rows\n\n"
     ]
    }
   ],
   "source": [
    "df_cleaned = spark.read.parquet(\"/FileStore/tables/cleaned_mental_health_data\")\n",
    "df_cleaned.show(5)\n"
   ]
  },
  {
   "cell_type": "code",
   "execution_count": 0,
   "metadata": {
    "application/vnd.databricks.v1+cell": {
     "cellMetadata": {
      "byteLimit": 2048000,
      "rowLimit": 10000
     },
     "inputWidgets": {},
     "nuid": "82e77dfe-84ed-41f9-b7b7-9d6bfd3cb6bc",
     "showTitle": false,
     "tableResultSettingsMap": {},
     "title": ""
    }
   },
   "outputs": [
    {
     "output_type": "stream",
     "name": "stdout",
     "output_type": "stream",
     "text": [
      "+-----------+-----+\n|Gender_Code|count|\n+-----------+-----+\n|          2| 1200|\n+-----------+-----+\n\n"
     ]
    }
   ],
   "source": [
    "df_final.groupBy(\"Gender_Code\").count().show()\n"
   ]
  },
  {
   "cell_type": "code",
   "execution_count": 0,
   "metadata": {
    "application/vnd.databricks.v1+cell": {
     "cellMetadata": {
      "byteLimit": 2048000,
      "rowLimit": 10000
     },
     "inputWidgets": {},
     "nuid": "93c71fd1-f0b5-4faf-9025-904b2a6e47f0",
     "showTitle": false,
     "tableResultSettingsMap": {},
     "title": ""
    }
   },
   "outputs": [],
   "source": [
    "df_final.write \\\n",
    "    .partitionBy(\"Gender_Code\") \\\n",
    "    .mode(\"overwrite\") \\\n",
    "    .parquet(\"/FileStore/tables/cleaned_mental_health_data\")\n"
   ]
  },
  {
   "cell_type": "code",
   "execution_count": 0,
   "metadata": {
    "application/vnd.databricks.v1+cell": {
     "cellMetadata": {
      "byteLimit": 2048000,
      "rowLimit": 10000
     },
     "inputWidgets": {},
     "nuid": "ad4d794b-4120-4211-b8e5-32b44ce7fd25",
     "showTitle": false,
     "tableResultSettingsMap": {},
     "title": ""
    }
   },
   "outputs": [
    {
     "output_type": "display_data",
     "data": {
      "text/html": [
       "<style scoped>\n",
       "  .table-result-container {\n",
       "    max-height: 300px;\n",
       "    overflow: auto;\n",
       "  }\n",
       "  table, th, td {\n",
       "    border: 1px solid black;\n",
       "    border-collapse: collapse;\n",
       "  }\n",
       "  th, td {\n",
       "    padding: 5px;\n",
       "  }\n",
       "  th {\n",
       "    text-align: left;\n",
       "  }\n",
       "</style><div class='table-result-container'><table class='table-result'><thead style='background-color: white'><tr><th>path</th><th>name</th><th>size</th><th>modificationTime</th></tr></thead><tbody><tr><td>dbfs:/FileStore/tables/cleaned_mental_health_data/Gender_Code=2/</td><td>Gender_Code=2/</td><td>0</td><td>0</td></tr><tr><td>dbfs:/FileStore/tables/cleaned_mental_health_data/Gender_code=2/</td><td>Gender_code=2/</td><td>0</td><td>0</td></tr><tr><td>dbfs:/FileStore/tables/cleaned_mental_health_data/_SUCCESS</td><td>_SUCCESS</td><td>0</td><td>1742776587000</td></tr><tr><td>dbfs:/FileStore/tables/cleaned_mental_health_data/_committed_6861316898813966659</td><td>_committed_6861316898813966659</td><td>35</td><td>1742776353000</td></tr></tbody></table></div>"
      ]
     },
     "metadata": {
      "application/vnd.databricks.v1+output": {
       "addedWidgets": {},
       "aggData": [],
       "aggError": "",
       "aggOverflow": false,
       "aggSchema": [],
       "aggSeriesLimitReached": false,
       "aggType": "",
       "arguments": {},
       "columnCustomDisplayInfos": {},
       "data": [
        [
         "dbfs:/FileStore/tables/cleaned_mental_health_data/Gender_Code=2/",
         "Gender_Code=2/",
         0,
         0
        ],
        [
         "dbfs:/FileStore/tables/cleaned_mental_health_data/Gender_code=2/",
         "Gender_code=2/",
         0,
         0
        ],
        [
         "dbfs:/FileStore/tables/cleaned_mental_health_data/_SUCCESS",
         "_SUCCESS",
         0,
         1742776587000
        ],
        [
         "dbfs:/FileStore/tables/cleaned_mental_health_data/_committed_6861316898813966659",
         "_committed_6861316898813966659",
         35,
         1742776353000
        ]
       ],
       "datasetInfos": [],
       "dbfsResultPath": null,
       "isJsonSchema": true,
       "metadata": {
        "isDbfsCommandResult": false
       },
       "overflow": false,
       "plotOptions": {
        "customPlotOptions": {},
        "displayType": "table",
        "pivotAggregation": null,
        "pivotColumns": null,
        "xColumns": null,
        "yColumns": null
       },
       "removedWidgets": [],
       "schema": [
        {
         "metadata": "{}",
         "name": "path",
         "type": "\"string\""
        },
        {
         "metadata": "{}",
         "name": "name",
         "type": "\"string\""
        },
        {
         "metadata": "{}",
         "name": "size",
         "type": "\"long\""
        },
        {
         "metadata": "{}",
         "name": "modificationTime",
         "type": "\"long\""
        }
       ],
       "type": "table"
      }
     },
     "output_type": "display_data"
    }
   ],
   "source": [
    "%fs\n",
    "ls /FileStore/tables/cleaned_mental_health_data/\n"
   ]
  },
  {
   "cell_type": "code",
   "execution_count": 0,
   "metadata": {
    "application/vnd.databricks.v1+cell": {
     "cellMetadata": {
      "byteLimit": 2048000,
      "rowLimit": 10000
     },
     "inputWidgets": {},
     "nuid": "568e8df0-7bd7-42c1-b8a9-3f275a7c21bd",
     "showTitle": false,
     "tableResultSettingsMap": {},
     "title": ""
    }
   },
   "outputs": [
    {
     "output_type": "stream",
     "name": "stdout",
     "output_type": "stream",
     "text": [
      "+----------+\n|    Gender|\n+----------+\n|    Female|\n|     Other|\n|Non-Binary|\n|      Male|\n+----------+\n\n"
     ]
    }
   ],
   "source": [
    "df1.select(\"Gender\").distinct().show()\n"
   ]
  },
  {
   "cell_type": "code",
   "execution_count": 0,
   "metadata": {
    "application/vnd.databricks.v1+cell": {
     "cellMetadata": {
      "byteLimit": 2048000,
      "rowLimit": 10000
     },
     "inputWidgets": {},
     "nuid": "685e59ef-e4fe-4d3b-ad50-03ec2399b99d",
     "showTitle": false,
     "tableResultSettingsMap": {},
     "title": ""
    }
   },
   "outputs": [
    {
     "output_type": "stream",
     "name": "stdout",
     "output_type": "stream",
     "text": [
      "+-----------+\n|Gender_Code|\n+-----------+\n|          2|\n+-----------+\n\n"
     ]
    }
   ],
   "source": [
    "df1.select(\"Gender_Code\").distinct().show()\n"
   ]
  },
  {
   "cell_type": "code",
   "execution_count": 0,
   "metadata": {
    "application/vnd.databricks.v1+cell": {
     "cellMetadata": {
      "byteLimit": 2048000,
      "rowLimit": 10000
     },
     "inputWidgets": {},
     "nuid": "e40f192e-0974-44a2-9e86-ffd931833724",
     "showTitle": false,
     "tableResultSettingsMap": {},
     "title": ""
    }
   },
   "outputs": [
    {
     "output_type": "stream",
     "name": "stdout",
     "output_type": "stream",
     "text": [
      "+-----------+-----+\n|Gender_Code|count|\n+-----------+-----+\n|          2| 1200|\n+-----------+-----+\n\n"
     ]
    }
   ],
   "source": [
    "df1.groupBy(\"Gender_Code\").count().show()\n"
   ]
  },
  {
   "cell_type": "code",
   "execution_count": 0,
   "metadata": {
    "application/vnd.databricks.v1+cell": {
     "cellMetadata": {
      "byteLimit": 2048000,
      "rowLimit": 10000
     },
     "inputWidgets": {},
     "nuid": "c16c0e86-7919-402d-8aa6-7e4e8c9b0c64",
     "showTitle": false,
     "tableResultSettingsMap": {},
     "title": ""
    }
   },
   "outputs": [
    {
     "output_type": "stream",
     "name": "stdout",
     "output_type": "stream",
     "text": [
      "+----------+-----------+\n|    Gender|Gender_Code|\n+----------+-----------+\n|     Other|          2|\n|    Female|          2|\n|Non-Binary|          2|\n|      Male|          2|\n+----------+-----------+\n\n"
     ]
    }
   ],
   "source": [
    "df1.select(\"Gender\", \"Gender_Code\").distinct().show(100)\n"
   ]
  },
  {
   "cell_type": "code",
   "execution_count": 0,
   "metadata": {
    "application/vnd.databricks.v1+cell": {
     "cellMetadata": {
      "byteLimit": 2048000,
      "rowLimit": 10000
     },
     "inputWidgets": {},
     "nuid": "43703415-a12c-47eb-9865-501cd6b3c41a",
     "showTitle": false,
     "tableResultSettingsMap": {},
     "title": ""
    }
   },
   "outputs": [],
   "source": [
    "from pyspark.sql.functions import lower, trim\n",
    "\n",
    "df1 = df1.withColumn(\"Gender\", trim(lower(df1[\"Gender\"])))\n"
   ]
  },
  {
   "cell_type": "code",
   "execution_count": 0,
   "metadata": {
    "application/vnd.databricks.v1+cell": {
     "cellMetadata": {
      "byteLimit": 2048000,
      "rowLimit": 10000
     },
     "inputWidgets": {},
     "nuid": "460e1490-23f1-4f4e-a3c9-8cab640b66a8",
     "showTitle": false,
     "tableResultSettingsMap": {},
     "title": ""
    }
   },
   "outputs": [],
   "source": [
    "from pyspark.sql.functions import when\n",
    "\n",
    "df1 = df1.withColumn(\"Gender_Code\", \n",
    "    when(df1[\"Gender\"] == \"male\", 0)\n",
    "   .when(df1[\"Gender\"] == \"female\", 1)\n",
    "   .when(df1[\"Gender\"] == \"non-binary\", 2)\n",
    "   .otherwise(3))  # other/unknowns\n"
   ]
  },
  {
   "cell_type": "code",
   "execution_count": 0,
   "metadata": {
    "application/vnd.databricks.v1+cell": {
     "cellMetadata": {
      "byteLimit": 2048000,
      "rowLimit": 10000
     },
     "inputWidgets": {},
     "nuid": "7adc101c-6ae8-46e8-b172-bcf23f076b23",
     "showTitle": false,
     "tableResultSettingsMap": {},
     "title": ""
    }
   },
   "outputs": [
    {
     "output_type": "stream",
     "name": "stdout",
     "output_type": "stream",
     "text": [
      "+----------+-----------+\n|    Gender|Gender_Code|\n+----------+-----------+\n|non-binary|          2|\n|     other|          3|\n|      male|          0|\n|    female|          1|\n+----------+-----------+\n\n+-----------+-----+\n|Gender_Code|count|\n+-----------+-----+\n|          1|  569|\n|          3|   21|\n|          2|   90|\n|          0|  520|\n+-----------+-----+\n\n"
     ]
    }
   ],
   "source": [
    "df1.select(\"Gender\", \"Gender_Code\").distinct().show()\n",
    "df1.groupBy(\"Gender_Code\").count().show()\n"
   ]
  },
  {
   "cell_type": "code",
   "execution_count": 0,
   "metadata": {
    "application/vnd.databricks.v1+cell": {
     "cellMetadata": {
      "byteLimit": 2048000,
      "rowLimit": 10000
     },
     "inputWidgets": {},
     "nuid": "a01c0707-e006-4052-bd45-132068066894",
     "showTitle": false,
     "tableResultSettingsMap": {},
     "title": ""
    }
   },
   "outputs": [],
   "source": [
    "df_final = df1.select(\n",
    "    \"Age\", \"Gender_Code\", \"Employment_Status\", \"Anxiety_Score\", \n",
    "    \"Depression_Score\", \"Stress_Level\", \"Total_Mental_Health_Score\", \n",
    "    \"High_Stress_Flag\", \"Life_Satisfaction_Score\"\n",
    ")\n",
    "\n",
    "df_final.write \\\n",
    "    .partitionBy(\"Gender_Code\") \\\n",
    "    .mode(\"overwrite\") \\\n",
    "    .parquet(\"/FileStore/tables/cleaned_mental_health_data\")\n"
   ]
  },
  {
   "cell_type": "code",
   "execution_count": 0,
   "metadata": {
    "application/vnd.databricks.v1+cell": {
     "cellMetadata": {
      "byteLimit": 2048000,
      "rowLimit": 10000
     },
     "inputWidgets": {},
     "nuid": "3cce7ba6-dc49-4561-a432-2a9904f7a5b4",
     "showTitle": false,
     "tableResultSettingsMap": {},
     "title": ""
    }
   },
   "outputs": [
    {
     "output_type": "display_data",
     "data": {
      "text/html": [
       "<style scoped>\n",
       "  .table-result-container {\n",
       "    max-height: 300px;\n",
       "    overflow: auto;\n",
       "  }\n",
       "  table, th, td {\n",
       "    border: 1px solid black;\n",
       "    border-collapse: collapse;\n",
       "  }\n",
       "  th, td {\n",
       "    padding: 5px;\n",
       "  }\n",
       "  th {\n",
       "    text-align: left;\n",
       "  }\n",
       "</style><div class='table-result-container'><table class='table-result'><thead style='background-color: white'><tr><th>path</th><th>name</th><th>size</th><th>modificationTime</th></tr></thead><tbody><tr><td>dbfs:/FileStore/tables/cleaned_mental_health_data/Gender_Code=0/</td><td>Gender_Code=0/</td><td>0</td><td>0</td></tr><tr><td>dbfs:/FileStore/tables/cleaned_mental_health_data/Gender_Code=1/</td><td>Gender_Code=1/</td><td>0</td><td>0</td></tr><tr><td>dbfs:/FileStore/tables/cleaned_mental_health_data/Gender_Code=2/</td><td>Gender_Code=2/</td><td>0</td><td>0</td></tr><tr><td>dbfs:/FileStore/tables/cleaned_mental_health_data/Gender_Code=3/</td><td>Gender_Code=3/</td><td>0</td><td>0</td></tr><tr><td>dbfs:/FileStore/tables/cleaned_mental_health_data/Gender_code=2/</td><td>Gender_code=2/</td><td>0</td><td>0</td></tr><tr><td>dbfs:/FileStore/tables/cleaned_mental_health_data/_SUCCESS</td><td>_SUCCESS</td><td>0</td><td>1742777598000</td></tr><tr><td>dbfs:/FileStore/tables/cleaned_mental_health_data/_committed_6861316898813966659</td><td>_committed_6861316898813966659</td><td>35</td><td>1742776353000</td></tr></tbody></table></div>"
      ]
     },
     "metadata": {
      "application/vnd.databricks.v1+output": {
       "addedWidgets": {},
       "aggData": [],
       "aggError": "",
       "aggOverflow": false,
       "aggSchema": [],
       "aggSeriesLimitReached": false,
       "aggType": "",
       "arguments": {},
       "columnCustomDisplayInfos": {},
       "data": [
        [
         "dbfs:/FileStore/tables/cleaned_mental_health_data/Gender_Code=0/",
         "Gender_Code=0/",
         0,
         0
        ],
        [
         "dbfs:/FileStore/tables/cleaned_mental_health_data/Gender_Code=1/",
         "Gender_Code=1/",
         0,
         0
        ],
        [
         "dbfs:/FileStore/tables/cleaned_mental_health_data/Gender_Code=2/",
         "Gender_Code=2/",
         0,
         0
        ],
        [
         "dbfs:/FileStore/tables/cleaned_mental_health_data/Gender_Code=3/",
         "Gender_Code=3/",
         0,
         0
        ],
        [
         "dbfs:/FileStore/tables/cleaned_mental_health_data/Gender_code=2/",
         "Gender_code=2/",
         0,
         0
        ],
        [
         "dbfs:/FileStore/tables/cleaned_mental_health_data/_SUCCESS",
         "_SUCCESS",
         0,
         1742777598000
        ],
        [
         "dbfs:/FileStore/tables/cleaned_mental_health_data/_committed_6861316898813966659",
         "_committed_6861316898813966659",
         35,
         1742776353000
        ]
       ],
       "datasetInfos": [],
       "dbfsResultPath": null,
       "isJsonSchema": true,
       "metadata": {
        "isDbfsCommandResult": false
       },
       "overflow": false,
       "plotOptions": {
        "customPlotOptions": {},
        "displayType": "table",
        "pivotAggregation": null,
        "pivotColumns": null,
        "xColumns": null,
        "yColumns": null
       },
       "removedWidgets": [],
       "schema": [
        {
         "metadata": "{}",
         "name": "path",
         "type": "\"string\""
        },
        {
         "metadata": "{}",
         "name": "name",
         "type": "\"string\""
        },
        {
         "metadata": "{}",
         "name": "size",
         "type": "\"long\""
        },
        {
         "metadata": "{}",
         "name": "modificationTime",
         "type": "\"long\""
        }
       ],
       "type": "table"
      }
     },
     "output_type": "display_data"
    }
   ],
   "source": [
    "%fs\n",
    "ls /FileStore/tables/cleaned_mental_health_data/\n"
   ]
  },
  {
   "cell_type": "code",
   "execution_count": 0,
   "metadata": {
    "application/vnd.databricks.v1+cell": {
     "cellMetadata": {
      "byteLimit": 2048000,
      "rowLimit": 10000
     },
     "inputWidgets": {},
     "nuid": "31d28d45-a835-4412-8119-2d31df9c352e",
     "showTitle": false,
     "tableResultSettingsMap": {},
     "title": ""
    }
   },
   "outputs": [
    {
     "output_type": "display_data",
     "data": {
      "text/html": [
       "<style scoped>\n",
       "  .table-result-container {\n",
       "    max-height: 300px;\n",
       "    overflow: auto;\n",
       "  }\n",
       "  table, th, td {\n",
       "    border: 1px solid black;\n",
       "    border-collapse: collapse;\n",
       "  }\n",
       "  th, td {\n",
       "    padding: 5px;\n",
       "  }\n",
       "  th {\n",
       "    text-align: left;\n",
       "  }\n",
       "</style><div class='table-result-container'><table class='table-result'><thead style='background-color: white'><tr><th>path</th><th>name</th><th>size</th><th>modificationTime</th></tr></thead><tbody><tr><td>dbfs:/FileStore/tables/cleaned_mental_health_data/Gender_Code=0/_SUCCESS</td><td>_SUCCESS</td><td>0</td><td>1742777598000</td></tr><tr><td>dbfs:/FileStore/tables/cleaned_mental_health_data/Gender_Code=0/_committed_8875236322318088447</td><td>_committed_8875236322318088447</td><td>123</td><td>1742777597000</td></tr><tr><td>dbfs:/FileStore/tables/cleaned_mental_health_data/Gender_Code=0/_started_8875236322318088447</td><td>_started_8875236322318088447</td><td>0</td><td>1742777597000</td></tr><tr><td>dbfs:/FileStore/tables/cleaned_mental_health_data/Gender_Code=0/part-00000-tid-8875236322318088447-2af64977-32bc-44d9-9556-34c75079bf2d-33-1.c000.snappy.parquet</td><td>part-00000-tid-8875236322318088447-2af64977-32bc-44d9-9556-34c75079bf2d-33-1.c000.snappy.parquet</td><td>5584</td><td>1742777597000</td></tr></tbody></table></div>"
      ]
     },
     "metadata": {
      "application/vnd.databricks.v1+output": {
       "addedWidgets": {},
       "aggData": [],
       "aggError": "",
       "aggOverflow": false,
       "aggSchema": [],
       "aggSeriesLimitReached": false,
       "aggType": "",
       "arguments": {},
       "columnCustomDisplayInfos": {},
       "data": [
        [
         "dbfs:/FileStore/tables/cleaned_mental_health_data/Gender_Code=0/_SUCCESS",
         "_SUCCESS",
         0,
         1742777598000
        ],
        [
         "dbfs:/FileStore/tables/cleaned_mental_health_data/Gender_Code=0/_committed_8875236322318088447",
         "_committed_8875236322318088447",
         123,
         1742777597000
        ],
        [
         "dbfs:/FileStore/tables/cleaned_mental_health_data/Gender_Code=0/_started_8875236322318088447",
         "_started_8875236322318088447",
         0,
         1742777597000
        ],
        [
         "dbfs:/FileStore/tables/cleaned_mental_health_data/Gender_Code=0/part-00000-tid-8875236322318088447-2af64977-32bc-44d9-9556-34c75079bf2d-33-1.c000.snappy.parquet",
         "part-00000-tid-8875236322318088447-2af64977-32bc-44d9-9556-34c75079bf2d-33-1.c000.snappy.parquet",
         5584,
         1742777597000
        ]
       ],
       "datasetInfos": [],
       "dbfsResultPath": null,
       "isJsonSchema": true,
       "metadata": {
        "isDbfsCommandResult": false
       },
       "overflow": false,
       "plotOptions": {
        "customPlotOptions": {},
        "displayType": "table",
        "pivotAggregation": null,
        "pivotColumns": null,
        "xColumns": null,
        "yColumns": null
       },
       "removedWidgets": [],
       "schema": [
        {
         "metadata": "{}",
         "name": "path",
         "type": "\"string\""
        },
        {
         "metadata": "{}",
         "name": "name",
         "type": "\"string\""
        },
        {
         "metadata": "{}",
         "name": "size",
         "type": "\"long\""
        },
        {
         "metadata": "{}",
         "name": "modificationTime",
         "type": "\"long\""
        }
       ],
       "type": "table"
      }
     },
     "output_type": "display_data"
    }
   ],
   "source": [
    "%fs\n",
    "ls /FileStore/tables/cleaned_mental_health_data/Gender_Code=0/\n"
   ]
  },
  {
   "cell_type": "code",
   "execution_count": 0,
   "metadata": {
    "application/vnd.databricks.v1+cell": {
     "cellMetadata": {
      "byteLimit": 2048000,
      "rowLimit": 10000
     },
     "inputWidgets": {},
     "nuid": "69573d21-b0bf-462f-8523-fd75516b6b52",
     "showTitle": false,
     "tableResultSettingsMap": {},
     "title": ""
    }
   },
   "outputs": [
    {
     "output_type": "display_data",
     "data": {
      "text/html": [
       "<style scoped>\n",
       "  .table-result-container {\n",
       "    max-height: 300px;\n",
       "    overflow: auto;\n",
       "  }\n",
       "  table, th, td {\n",
       "    border: 1px solid black;\n",
       "    border-collapse: collapse;\n",
       "  }\n",
       "  th, td {\n",
       "    padding: 5px;\n",
       "  }\n",
       "  th {\n",
       "    text-align: left;\n",
       "  }\n",
       "</style><div class='table-result-container'><table class='table-result'><thead style='background-color: white'><tr><th>path</th><th>name</th><th>size</th><th>modificationTime</th></tr></thead><tbody><tr><td>dbfs:/FileStore/tables/cleaned_mental_health_data/Gender_Code=1/_SUCCESS</td><td>_SUCCESS</td><td>0</td><td>1742777597000</td></tr><tr><td>dbfs:/FileStore/tables/cleaned_mental_health_data/Gender_Code=1/_committed_8875236322318088447</td><td>_committed_8875236322318088447</td><td>123</td><td>1742777597000</td></tr><tr><td>dbfs:/FileStore/tables/cleaned_mental_health_data/Gender_Code=1/_started_8875236322318088447</td><td>_started_8875236322318088447</td><td>0</td><td>1742777597000</td></tr><tr><td>dbfs:/FileStore/tables/cleaned_mental_health_data/Gender_Code=1/part-00000-tid-8875236322318088447-2af64977-32bc-44d9-9556-34c75079bf2d-33-2.c000.snappy.parquet</td><td>part-00000-tid-8875236322318088447-2af64977-32bc-44d9-9556-34c75079bf2d-33-2.c000.snappy.parquet</td><td>5793</td><td>1742777597000</td></tr></tbody></table></div>"
      ]
     },
     "metadata": {
      "application/vnd.databricks.v1+output": {
       "addedWidgets": {},
       "aggData": [],
       "aggError": "",
       "aggOverflow": false,
       "aggSchema": [],
       "aggSeriesLimitReached": false,
       "aggType": "",
       "arguments": {},
       "columnCustomDisplayInfos": {},
       "data": [
        [
         "dbfs:/FileStore/tables/cleaned_mental_health_data/Gender_Code=1/_SUCCESS",
         "_SUCCESS",
         0,
         1742777597000
        ],
        [
         "dbfs:/FileStore/tables/cleaned_mental_health_data/Gender_Code=1/_committed_8875236322318088447",
         "_committed_8875236322318088447",
         123,
         1742777597000
        ],
        [
         "dbfs:/FileStore/tables/cleaned_mental_health_data/Gender_Code=1/_started_8875236322318088447",
         "_started_8875236322318088447",
         0,
         1742777597000
        ],
        [
         "dbfs:/FileStore/tables/cleaned_mental_health_data/Gender_Code=1/part-00000-tid-8875236322318088447-2af64977-32bc-44d9-9556-34c75079bf2d-33-2.c000.snappy.parquet",
         "part-00000-tid-8875236322318088447-2af64977-32bc-44d9-9556-34c75079bf2d-33-2.c000.snappy.parquet",
         5793,
         1742777597000
        ]
       ],
       "datasetInfos": [],
       "dbfsResultPath": null,
       "isJsonSchema": true,
       "metadata": {
        "isDbfsCommandResult": false
       },
       "overflow": false,
       "plotOptions": {
        "customPlotOptions": {},
        "displayType": "table",
        "pivotAggregation": null,
        "pivotColumns": null,
        "xColumns": null,
        "yColumns": null
       },
       "removedWidgets": [],
       "schema": [
        {
         "metadata": "{}",
         "name": "path",
         "type": "\"string\""
        },
        {
         "metadata": "{}",
         "name": "name",
         "type": "\"string\""
        },
        {
         "metadata": "{}",
         "name": "size",
         "type": "\"long\""
        },
        {
         "metadata": "{}",
         "name": "modificationTime",
         "type": "\"long\""
        }
       ],
       "type": "table"
      }
     },
     "output_type": "display_data"
    }
   ],
   "source": [
    "%fs\n",
    "ls /FileStore/tables/cleaned_mental_health_data/Gender_Code=1/\n"
   ]
  },
  {
   "cell_type": "code",
   "execution_count": 0,
   "metadata": {
    "application/vnd.databricks.v1+cell": {
     "cellMetadata": {
      "byteLimit": 2048000,
      "rowLimit": 10000
     },
     "inputWidgets": {},
     "nuid": "52a665e8-90cc-4ee5-8f63-89e2ee702a4d",
     "showTitle": false,
     "tableResultSettingsMap": {},
     "title": ""
    }
   },
   "outputs": [],
   "source": [
    "# Register the DataFrame as a temporary SQL table\n",
    "df_cleaned.createOrReplaceTempView(\"mental_health_data\")\n"
   ]
  },
  {
   "cell_type": "code",
   "execution_count": 0,
   "metadata": {
    "application/vnd.databricks.v1+cell": {
     "cellMetadata": {
      "byteLimit": 2048000,
      "rowLimit": 10000
     },
     "inputWidgets": {},
     "nuid": "12e37f01-8d0b-47da-a615-f897b12cee90",
     "showTitle": false,
     "tableResultSettingsMap": {},
     "title": ""
    }
   },
   "outputs": [
    {
     "output_type": "display_data",
     "data": {
      "text/plain": [
       "\u001B[0;31m---------------------------------------------------------------------------\u001B[0m\n",
       "\u001B[0;31mPy4JJavaError\u001B[0m                             Traceback (most recent call last)\n",
       "File \u001B[0;32m<command-2523299416587854>:1\u001B[0m\n",
       "\u001B[0;32m----> 1\u001B[0m \u001B[43mspark\u001B[49m\u001B[38;5;241;43m.\u001B[39;49m\u001B[43msql\u001B[49m\u001B[43m(\u001B[49m\u001B[38;5;124;43m\"\"\"\u001B[39;49m\n",
       "\u001B[1;32m      2\u001B[0m \u001B[38;5;124;43m    SELECT Gender_Code,\u001B[39;49m\n",
       "\u001B[1;32m      3\u001B[0m \u001B[38;5;124;43m           COUNT(*) AS total,\u001B[39;49m\n",
       "\u001B[1;32m      4\u001B[0m \u001B[38;5;124;43m           AVG(Total_Mental_Health_Score) AS avg_score,\u001B[39;49m\n",
       "\u001B[1;32m      5\u001B[0m \u001B[38;5;124;43m           AVG(Life_Satisfaction_Score) AS avg_life\u001B[39;49m\n",
       "\u001B[1;32m      6\u001B[0m \u001B[38;5;124;43m    FROM mental_health_data\u001B[39;49m\n",
       "\u001B[1;32m      7\u001B[0m \u001B[38;5;124;43m    GROUP BY Gender_Code\u001B[39;49m\n",
       "\u001B[1;32m      8\u001B[0m \u001B[38;5;124;43m\"\"\"\u001B[39;49m\u001B[43m)\u001B[49m\u001B[38;5;241;43m.\u001B[39;49m\u001B[43mshow\u001B[49m\u001B[43m(\u001B[49m\u001B[43m)\u001B[49m\n",
       "\n",
       "File \u001B[0;32m/databricks/spark/python/pyspark/instrumentation_utils.py:48\u001B[0m, in \u001B[0;36m_wrap_function.<locals>.wrapper\u001B[0;34m(*args, **kwargs)\u001B[0m\n",
       "\u001B[1;32m     46\u001B[0m start \u001B[38;5;241m=\u001B[39m time\u001B[38;5;241m.\u001B[39mperf_counter()\n",
       "\u001B[1;32m     47\u001B[0m \u001B[38;5;28;01mtry\u001B[39;00m:\n",
       "\u001B[0;32m---> 48\u001B[0m     res \u001B[38;5;241m=\u001B[39m \u001B[43mfunc\u001B[49m\u001B[43m(\u001B[49m\u001B[38;5;241;43m*\u001B[39;49m\u001B[43margs\u001B[49m\u001B[43m,\u001B[49m\u001B[43m \u001B[49m\u001B[38;5;241;43m*\u001B[39;49m\u001B[38;5;241;43m*\u001B[39;49m\u001B[43mkwargs\u001B[49m\u001B[43m)\u001B[49m\n",
       "\u001B[1;32m     49\u001B[0m     logger\u001B[38;5;241m.\u001B[39mlog_success(\n",
       "\u001B[1;32m     50\u001B[0m         module_name, class_name, function_name, time\u001B[38;5;241m.\u001B[39mperf_counter() \u001B[38;5;241m-\u001B[39m start, signature\n",
       "\u001B[1;32m     51\u001B[0m     )\n",
       "\u001B[1;32m     52\u001B[0m     \u001B[38;5;28;01mreturn\u001B[39;00m res\n",
       "\n",
       "File \u001B[0;32m/databricks/spark/python/pyspark/sql/dataframe.py:920\u001B[0m, in \u001B[0;36mDataFrame.show\u001B[0;34m(self, n, truncate, vertical)\u001B[0m\n",
       "\u001B[1;32m    914\u001B[0m     \u001B[38;5;28;01mraise\u001B[39;00m PySparkTypeError(\n",
       "\u001B[1;32m    915\u001B[0m         error_class\u001B[38;5;241m=\u001B[39m\u001B[38;5;124m\"\u001B[39m\u001B[38;5;124mNOT_A_BOOLEAN\u001B[39m\u001B[38;5;124m\"\u001B[39m,\n",
       "\u001B[1;32m    916\u001B[0m         message_parameters\u001B[38;5;241m=\u001B[39m{\u001B[38;5;124m\"\u001B[39m\u001B[38;5;124marg_name\u001B[39m\u001B[38;5;124m\"\u001B[39m: \u001B[38;5;124m\"\u001B[39m\u001B[38;5;124mvertical\u001B[39m\u001B[38;5;124m\"\u001B[39m, \u001B[38;5;124m\"\u001B[39m\u001B[38;5;124marg_type\u001B[39m\u001B[38;5;124m\"\u001B[39m: \u001B[38;5;28mtype\u001B[39m(vertical)\u001B[38;5;241m.\u001B[39m\u001B[38;5;18m__name__\u001B[39m},\n",
       "\u001B[1;32m    917\u001B[0m     )\n",
       "\u001B[1;32m    919\u001B[0m \u001B[38;5;28;01mif\u001B[39;00m \u001B[38;5;28misinstance\u001B[39m(truncate, \u001B[38;5;28mbool\u001B[39m) \u001B[38;5;129;01mand\u001B[39;00m truncate:\n",
       "\u001B[0;32m--> 920\u001B[0m     \u001B[38;5;28mprint\u001B[39m(\u001B[38;5;28;43mself\u001B[39;49m\u001B[38;5;241;43m.\u001B[39;49m\u001B[43m_jdf\u001B[49m\u001B[38;5;241;43m.\u001B[39;49m\u001B[43mshowString\u001B[49m\u001B[43m(\u001B[49m\u001B[43mn\u001B[49m\u001B[43m,\u001B[49m\u001B[43m \u001B[49m\u001B[38;5;241;43m20\u001B[39;49m\u001B[43m,\u001B[49m\u001B[43m \u001B[49m\u001B[43mvertical\u001B[49m\u001B[43m)\u001B[49m)\n",
       "\u001B[1;32m    921\u001B[0m \u001B[38;5;28;01melse\u001B[39;00m:\n",
       "\u001B[1;32m    922\u001B[0m     \u001B[38;5;28;01mtry\u001B[39;00m:\n",
       "\n",
       "File \u001B[0;32m/databricks/spark/python/lib/py4j-0.10.9.5-src.zip/py4j/java_gateway.py:1321\u001B[0m, in \u001B[0;36mJavaMember.__call__\u001B[0;34m(self, *args)\u001B[0m\n",
       "\u001B[1;32m   1315\u001B[0m command \u001B[38;5;241m=\u001B[39m proto\u001B[38;5;241m.\u001B[39mCALL_COMMAND_NAME \u001B[38;5;241m+\u001B[39m\\\n",
       "\u001B[1;32m   1316\u001B[0m     \u001B[38;5;28mself\u001B[39m\u001B[38;5;241m.\u001B[39mcommand_header \u001B[38;5;241m+\u001B[39m\\\n",
       "\u001B[1;32m   1317\u001B[0m     args_command \u001B[38;5;241m+\u001B[39m\\\n",
       "\u001B[1;32m   1318\u001B[0m     proto\u001B[38;5;241m.\u001B[39mEND_COMMAND_PART\n",
       "\u001B[1;32m   1320\u001B[0m answer \u001B[38;5;241m=\u001B[39m \u001B[38;5;28mself\u001B[39m\u001B[38;5;241m.\u001B[39mgateway_client\u001B[38;5;241m.\u001B[39msend_command(command)\n",
       "\u001B[0;32m-> 1321\u001B[0m return_value \u001B[38;5;241m=\u001B[39m \u001B[43mget_return_value\u001B[49m\u001B[43m(\u001B[49m\n",
       "\u001B[1;32m   1322\u001B[0m \u001B[43m    \u001B[49m\u001B[43manswer\u001B[49m\u001B[43m,\u001B[49m\u001B[43m \u001B[49m\u001B[38;5;28;43mself\u001B[39;49m\u001B[38;5;241;43m.\u001B[39;49m\u001B[43mgateway_client\u001B[49m\u001B[43m,\u001B[49m\u001B[43m \u001B[49m\u001B[38;5;28;43mself\u001B[39;49m\u001B[38;5;241;43m.\u001B[39;49m\u001B[43mtarget_id\u001B[49m\u001B[43m,\u001B[49m\u001B[43m \u001B[49m\u001B[38;5;28;43mself\u001B[39;49m\u001B[38;5;241;43m.\u001B[39;49m\u001B[43mname\u001B[49m\u001B[43m)\u001B[49m\n",
       "\u001B[1;32m   1324\u001B[0m \u001B[38;5;28;01mfor\u001B[39;00m temp_arg \u001B[38;5;129;01min\u001B[39;00m temp_args:\n",
       "\u001B[1;32m   1325\u001B[0m     temp_arg\u001B[38;5;241m.\u001B[39m_detach()\n",
       "\n",
       "File \u001B[0;32m/databricks/spark/python/pyspark/errors/exceptions.py:228\u001B[0m, in \u001B[0;36mcapture_sql_exception.<locals>.deco\u001B[0;34m(*a, **kw)\u001B[0m\n",
       "\u001B[1;32m    226\u001B[0m \u001B[38;5;28;01mdef\u001B[39;00m \u001B[38;5;21mdeco\u001B[39m(\u001B[38;5;241m*\u001B[39ma: Any, \u001B[38;5;241m*\u001B[39m\u001B[38;5;241m*\u001B[39mkw: Any) \u001B[38;5;241m-\u001B[39m\u001B[38;5;241m>\u001B[39m Any:\n",
       "\u001B[1;32m    227\u001B[0m     \u001B[38;5;28;01mtry\u001B[39;00m:\n",
       "\u001B[0;32m--> 228\u001B[0m         \u001B[38;5;28;01mreturn\u001B[39;00m \u001B[43mf\u001B[49m\u001B[43m(\u001B[49m\u001B[38;5;241;43m*\u001B[39;49m\u001B[43ma\u001B[49m\u001B[43m,\u001B[49m\u001B[43m \u001B[49m\u001B[38;5;241;43m*\u001B[39;49m\u001B[38;5;241;43m*\u001B[39;49m\u001B[43mkw\u001B[49m\u001B[43m)\u001B[49m\n",
       "\u001B[1;32m    229\u001B[0m     \u001B[38;5;28;01mexcept\u001B[39;00m Py4JJavaError \u001B[38;5;28;01mas\u001B[39;00m e:\n",
       "\u001B[1;32m    230\u001B[0m         converted \u001B[38;5;241m=\u001B[39m convert_exception(e\u001B[38;5;241m.\u001B[39mjava_exception)\n",
       "\n",
       "File \u001B[0;32m/databricks/spark/python/lib/py4j-0.10.9.5-src.zip/py4j/protocol.py:326\u001B[0m, in \u001B[0;36mget_return_value\u001B[0;34m(answer, gateway_client, target_id, name)\u001B[0m\n",
       "\u001B[1;32m    324\u001B[0m value \u001B[38;5;241m=\u001B[39m OUTPUT_CONVERTER[\u001B[38;5;28mtype\u001B[39m](answer[\u001B[38;5;241m2\u001B[39m:], gateway_client)\n",
       "\u001B[1;32m    325\u001B[0m \u001B[38;5;28;01mif\u001B[39;00m answer[\u001B[38;5;241m1\u001B[39m] \u001B[38;5;241m==\u001B[39m REFERENCE_TYPE:\n",
       "\u001B[0;32m--> 326\u001B[0m     \u001B[38;5;28;01mraise\u001B[39;00m Py4JJavaError(\n",
       "\u001B[1;32m    327\u001B[0m         \u001B[38;5;124m\"\u001B[39m\u001B[38;5;124mAn error occurred while calling \u001B[39m\u001B[38;5;132;01m{0}\u001B[39;00m\u001B[38;5;132;01m{1}\u001B[39;00m\u001B[38;5;132;01m{2}\u001B[39;00m\u001B[38;5;124m.\u001B[39m\u001B[38;5;130;01m\\n\u001B[39;00m\u001B[38;5;124m\"\u001B[39m\u001B[38;5;241m.\u001B[39m\n",
       "\u001B[1;32m    328\u001B[0m         \u001B[38;5;28mformat\u001B[39m(target_id, \u001B[38;5;124m\"\u001B[39m\u001B[38;5;124m.\u001B[39m\u001B[38;5;124m\"\u001B[39m, name), value)\n",
       "\u001B[1;32m    329\u001B[0m \u001B[38;5;28;01melse\u001B[39;00m:\n",
       "\u001B[1;32m    330\u001B[0m     \u001B[38;5;28;01mraise\u001B[39;00m Py4JError(\n",
       "\u001B[1;32m    331\u001B[0m         \u001B[38;5;124m\"\u001B[39m\u001B[38;5;124mAn error occurred while calling \u001B[39m\u001B[38;5;132;01m{0}\u001B[39;00m\u001B[38;5;132;01m{1}\u001B[39;00m\u001B[38;5;132;01m{2}\u001B[39;00m\u001B[38;5;124m. Trace:\u001B[39m\u001B[38;5;130;01m\\n\u001B[39;00m\u001B[38;5;132;01m{3}\u001B[39;00m\u001B[38;5;130;01m\\n\u001B[39;00m\u001B[38;5;124m\"\u001B[39m\u001B[38;5;241m.\u001B[39m\n",
       "\u001B[1;32m    332\u001B[0m         \u001B[38;5;28mformat\u001B[39m(target_id, \u001B[38;5;124m\"\u001B[39m\u001B[38;5;124m.\u001B[39m\u001B[38;5;124m\"\u001B[39m, name, value))\n",
       "\n",
       "\u001B[0;31mPy4JJavaError\u001B[0m: An error occurred while calling o1740.showString.\n",
       ": org.apache.spark.SparkException: Job aborted due to stage failure: Task 0 in stage 44.0 failed 1 times, most recent failure: Lost task 0.0 in stage 44.0 (TID 34) (ip-10-172-214-160.us-west-2.compute.internal executor driver): com.databricks.sql.io.FileReadException: Error while reading file dbfs:/FileStore/tables/cleaned_mental_health_data/Gender_Code=2/part-00000-tid-7787678676638161777-4245f7b3-84bf-41e2-8a69-245c8fb5f92a-14-1.c000.snappy.parquet. [DEFAULT_FILE_NOT_FOUND] It is possible the underlying files have been updated. You can explicitly invalidate the cache in Spark by running 'REFRESH TABLE tableName' command in SQL or by recreating the Dataset/DataFrame involved. If disk cache is stale or the underlying files have been removed, you can invalidate disk cache manually by restarting the cluster.\n",
       "\tat org.apache.spark.sql.execution.datasources.FileScanRDD$$anon$1$$anon$2.logFileNameAndThrow(FileScanRDD.scala:704)\n",
       "\tat org.apache.spark.sql.execution.datasources.FileScanRDD$$anon$1$$anon$2.getNext(FileScanRDD.scala:646)\n",
       "\tat org.apache.spark.util.NextIterator.hasNext(NextIterator.scala:73)\n",
       "\tat org.apache.spark.sql.execution.datasources.FileScanRDD$$anon$1.$anonfun$prepareNextFile$1(FileScanRDD.scala:879)\n",
       "\tat scala.concurrent.Future$.$anonfun$apply$1(Future.scala:659)\n",
       "\tat scala.util.Success.$anonfun$map$1(Try.scala:255)\n",
       "\tat scala.util.Success.map(Try.scala:213)\n",
       "\tat scala.concurrent.Future.$anonfun$map$1(Future.scala:292)\n",
       "\tat scala.concurrent.impl.Promise.liftedTree1$1(Promise.scala:33)\n",
       "\tat scala.concurrent.impl.Promise.$anonfun$transform$1(Promise.scala:33)\n",
       "\tat scala.concurrent.impl.CallbackRunnable.run(Promise.scala:64)\n",
       "\tat org.apache.spark.util.threads.SparkThreadLocalCapturingRunnable.$anonfun$run$1(SparkThreadLocalForwardingThreadPoolExecutor.scala:116)\n",
       "\tat scala.runtime.java8.JFunction0$mcV$sp.apply(JFunction0$mcV$sp.java:23)\n",
       "\tat com.databricks.spark.util.IdentityClaim$.withClaim(IdentityClaim.scala:48)\n",
       "\tat org.apache.spark.util.threads.SparkThreadLocalCapturingHelper.$anonfun$runWithCaptured$4(SparkThreadLocalForwardingThreadPoolExecutor.scala:79)\n",
       "\tat com.databricks.unity.UCSEphemeralState$Handle.runWith(UCSEphemeralState.scala:41)\n",
       "\tat org.apache.spark.util.threads.SparkThreadLocalCapturingHelper.runWithCaptured(SparkThreadLocalForwardingThreadPoolExecutor.scala:78)\n",
       "\tat org.apache.spark.util.threads.SparkThreadLocalCapturingHelper.runWithCaptured$(SparkThreadLocalForwardingThreadPoolExecutor.scala:64)\n",
       "\tat org.apache.spark.util.threads.SparkThreadLocalCapturingRunnable.runWithCaptured(SparkThreadLocalForwardingThreadPoolExecutor.scala:113)\n",
       "\tat org.apache.spark.util.threads.SparkThreadLocalCapturingRunnable.run(SparkThreadLocalForwardingThreadPoolExecutor.scala:116)\n",
       "\tat java.util.concurrent.ThreadPoolExecutor.runWorker(ThreadPoolExecutor.java:1149)\n",
       "\tat java.util.concurrent.ThreadPoolExecutor$Worker.run(ThreadPoolExecutor.java:624)\n",
       "\tat java.lang.Thread.run(Thread.java:750)\n",
       "Caused by: java.io.FileNotFoundException: /FileStore/tables/cleaned_mental_health_data/Gender_Code=2/part-00000-tid-7787678676638161777-4245f7b3-84bf-41e2-8a69-245c8fb5f92a-14-1.c000.snappy.parquet\n",
       "\tat com.databricks.backend.daemon.data.client.DbfsClient.send0(DbfsClient.scala:121)\n",
       "\tat com.databricks.backend.daemon.data.client.DbfsClient.sendIdempotent(DbfsClient.scala:69)\n",
       "\tat com.databricks.backend.daemon.data.client.DatabricksFileSystemV1.getFileStatus(DatabricksFileSystemV1.scala:272)\n",
       "\tat com.databricks.backend.daemon.data.client.DatabricksFileSystem.getFileStatus(DatabricksFileSystem.scala:212)\n",
       "\tat com.databricks.spark.metrics.FileSystemWithMetrics.getFileStatus(FileSystemWithMetrics.scala:399)\n",
       "\tat com.databricks.sql.io.parquet.CachingParquetFooterReader.readFooter(CachingParquetFooterReader.java:203)\n",
       "\tat com.databricks.sql.io.parquet.CachingParquetFileReader.readFooter(CachingParquetFileReader.java:412)\n",
       "\tat org.apache.spark.sql.execution.datasources.parquet.SpecificParquetRecordReaderBase.prepare(SpecificParquetRecordReaderBase.java:157)\n",
       "\tat org.apache.spark.sql.execution.datasources.parquet.ParquetFileFormat$$anon$1.apply(ParquetFileFormat.scala:421)\n",
       "\tat org.apache.spark.sql.execution.datasources.parquet.ParquetFileFormat$$anon$1.apply(ParquetFileFormat.scala:276)\n",
       "\tat org.apache.spark.sql.execution.datasources.FileScanRDD$$anon$1$$anon$2.getNext(FileScanRDD.scala:617)\n",
       "\t... 21 more\n",
       "\n",
       "Driver stacktrace:\n",
       "\tat org.apache.spark.scheduler.DAGScheduler.failJobAndIndependentStages(DAGScheduler.scala:3440)\n",
       "\tat org.apache.spark.scheduler.DAGScheduler.$anonfun$abortStage$2(DAGScheduler.scala:3362)\n",
       "\tat org.apache.spark.scheduler.DAGScheduler.$anonfun$abortStage$2$adapted(DAGScheduler.scala:3351)\n",
       "\tat scala.collection.mutable.ResizableArray.foreach(ResizableArray.scala:62)\n",
       "\tat scala.collection.mutable.ResizableArray.foreach$(ResizableArray.scala:55)\n",
       "\tat scala.collection.mutable.ArrayBuffer.foreach(ArrayBuffer.scala:49)\n",
       "\tat org.apache.spark.scheduler.DAGScheduler.abortStage(DAGScheduler.scala:3351)\n",
       "\tat org.apache.spark.scheduler.DAGScheduler.$anonfun$handleTaskSetFailed$1(DAGScheduler.scala:1460)\n",
       "\tat org.apache.spark.scheduler.DAGScheduler.$anonfun$handleTaskSetFailed$1$adapted(DAGScheduler.scala:1460)\n",
       "\tat scala.Option.foreach(Option.scala:407)\n",
       "\tat org.apache.spark.scheduler.DAGScheduler.handleTaskSetFailed(DAGScheduler.scala:1460)\n",
       "\tat org.apache.spark.scheduler.DAGSchedulerEventProcessLoop.doOnReceive(DAGScheduler.scala:3651)\n",
       "\tat org.apache.spark.scheduler.DAGSchedulerEventProcessLoop.onReceive(DAGScheduler.scala:3589)\n",
       "\tat org.apache.spark.scheduler.DAGSchedulerEventProcessLoop.onReceive(DAGScheduler.scala:3577)\n",
       "\tat org.apache.spark.util.EventLoop$$anon$1.run(EventLoop.scala:51)\n",
       "Caused by: com.databricks.sql.io.FileReadException: Error while reading file dbfs:/FileStore/tables/cleaned_mental_health_data/Gender_Code=2/part-00000-tid-7787678676638161777-4245f7b3-84bf-41e2-8a69-245c8fb5f92a-14-1.c000.snappy.parquet. [DEFAULT_FILE_NOT_FOUND] It is possible the underlying files have been updated. You can explicitly invalidate the cache in Spark by running 'REFRESH TABLE tableName' command in SQL or by recreating the Dataset/DataFrame involved. If disk cache is stale or the underlying files have been removed, you can invalidate disk cache manually by restarting the cluster.\n",
       "\tat org.apache.spark.sql.execution.datasources.FileScanRDD$$anon$1$$anon$2.logFileNameAndThrow(FileScanRDD.scala:704)\n",
       "\tat org.apache.spark.sql.execution.datasources.FileScanRDD$$anon$1$$anon$2.getNext(FileScanRDD.scala:646)\n",
       "\tat org.apache.spark.util.NextIterator.hasNext(NextIterator.scala:73)\n",
       "\tat org.apache.spark.sql.execution.datasources.FileScanRDD$$anon$1.$anonfun$prepareNextFile$1(FileScanRDD.scala:879)\n",
       "\tat scala.concurrent.Future$.$anonfun$apply$1(Future.scala:659)\n",
       "\tat scala.util.Success.$anonfun$map$1(Try.scala:255)\n",
       "\tat scala.util.Success.map(Try.scala:213)\n",
       "\tat scala.concurrent.Future.$anonfun$map$1(Future.scala:292)\n",
       "\tat scala.concurrent.impl.Promise.liftedTree1$1(Promise.scala:33)\n",
       "\tat scala.concurrent.impl.Promise.$anonfun$transform$1(Promise.scala:33)\n",
       "\tat scala.concurrent.impl.CallbackRunnable.run(Promise.scala:64)\n",
       "\tat org.apache.spark.util.threads.SparkThreadLocalCapturingRunnable.$anonfun$run$1(SparkThreadLocalForwardingThreadPoolExecutor.scala:116)\n",
       "\tat scala.runtime.java8.JFunction0$mcV$sp.apply(JFunction0$mcV$sp.java:23)\n",
       "\tat com.databricks.spark.util.IdentityClaim$.withClaim(IdentityClaim.scala:48)\n",
       "\tat org.apache.spark.util.threads.SparkThreadLocalCapturingHelper.$anonfun$runWithCaptured$4(SparkThreadLocalForwardingThreadPoolExecutor.scala:79)\n",
       "\tat com.databricks.unity.UCSEphemeralState$Handle.runWith(UCSEphemeralState.scala:41)\n",
       "\tat org.apache.spark.util.threads.SparkThreadLocalCapturingHelper.runWithCaptured(SparkThreadLocalForwardingThreadPoolExecutor.scala:78)\n",
       "\tat org.apache.spark.util.threads.SparkThreadLocalCapturingHelper.runWithCaptured$(SparkThreadLocalForwardingThreadPoolExecutor.scala:64)\n",
       "\tat org.apache.spark.util.threads.SparkThreadLocalCapturingRunnable.runWithCaptured(SparkThreadLocalForwardingThreadPoolExecutor.scala:113)\n",
       "\tat org.apache.spark.util.threads.SparkThreadLocalCapturingRunnable.run(SparkThreadLocalForwardingThreadPoolExecutor.scala:116)\n",
       "\tat java.util.concurrent.ThreadPoolExecutor.runWorker(ThreadPoolExecutor.java:1149)\n",
       "\tat java.util.concurrent.ThreadPoolExecutor$Worker.run(ThreadPoolExecutor.java:624)\n",
       "\tat java.lang.Thread.run(Thread.java:750)\n",
       "Caused by: java.io.FileNotFoundException: /FileStore/tables/cleaned_mental_health_data/Gender_Code=2/part-00000-tid-7787678676638161777-4245f7b3-84bf-41e2-8a69-245c8fb5f92a-14-1.c000.snappy.parquet\n",
       "\tat com.databricks.backend.daemon.data.client.DbfsClient.send0(DbfsClient.scala:121)\n",
       "\tat com.databricks.backend.daemon.data.client.DbfsClient.sendIdempotent(DbfsClient.scala:69)\n",
       "\tat com.databricks.backend.daemon.data.client.DatabricksFileSystemV1.getFileStatus(DatabricksFileSystemV1.scala:272)\n",
       "\tat com.databricks.backend.daemon.data.client.DatabricksFileSystem.getFileStatus(DatabricksFileSystem.scala:212)\n",
       "\tat com.databricks.spark.metrics.FileSystemWithMetrics.getFileStatus(FileSystemWithMetrics.scala:399)\n",
       "\tat com.databricks.sql.io.parquet.CachingParquetFooterReader.readFooter(CachingParquetFooterReader.java:203)\n",
       "\tat com.databricks.sql.io.parquet.CachingParquetFileReader.readFooter(CachingParquetFileReader.java:412)\n",
       "\tat org.apache.spark.sql.execution.datasources.parquet.SpecificParquetRecordReaderBase.prepare(SpecificParquetRecordReaderBase.java:157)\n",
       "\tat org.apache.spark.sql.execution.datasources.parquet.ParquetFileFormat$$anon$1.apply(ParquetFileFormat.scala:421)\n",
       "\tat org.apache.spark.sql.execution.datasources.parquet.ParquetFileFormat$$anon$1.apply(ParquetFileFormat.scala:276)\n",
       "\tat org.apache.spark.sql.execution.datasources.FileScanRDD$$anon$1$$anon$2.getNext(FileScanRDD.scala:617)\n",
       "\t... 21 more\n"
      ]
     },
     "metadata": {
      "application/vnd.databricks.v1+output": {
       "arguments": {},
       "data": "\u001B[0;31m---------------------------------------------------------------------------\u001B[0m\n\u001B[0;31mPy4JJavaError\u001B[0m                             Traceback (most recent call last)\nFile \u001B[0;32m<command-2523299416587854>:1\u001B[0m\n\u001B[0;32m----> 1\u001B[0m \u001B[43mspark\u001B[49m\u001B[38;5;241;43m.\u001B[39;49m\u001B[43msql\u001B[49m\u001B[43m(\u001B[49m\u001B[38;5;124;43m\"\"\"\u001B[39;49m\n\u001B[1;32m      2\u001B[0m \u001B[38;5;124;43m    SELECT Gender_Code,\u001B[39;49m\n\u001B[1;32m      3\u001B[0m \u001B[38;5;124;43m           COUNT(*) AS total,\u001B[39;49m\n\u001B[1;32m      4\u001B[0m \u001B[38;5;124;43m           AVG(Total_Mental_Health_Score) AS avg_score,\u001B[39;49m\n\u001B[1;32m      5\u001B[0m \u001B[38;5;124;43m           AVG(Life_Satisfaction_Score) AS avg_life\u001B[39;49m\n\u001B[1;32m      6\u001B[0m \u001B[38;5;124;43m    FROM mental_health_data\u001B[39;49m\n\u001B[1;32m      7\u001B[0m \u001B[38;5;124;43m    GROUP BY Gender_Code\u001B[39;49m\n\u001B[1;32m      8\u001B[0m \u001B[38;5;124;43m\"\"\"\u001B[39;49m\u001B[43m)\u001B[49m\u001B[38;5;241;43m.\u001B[39;49m\u001B[43mshow\u001B[49m\u001B[43m(\u001B[49m\u001B[43m)\u001B[49m\n\nFile \u001B[0;32m/databricks/spark/python/pyspark/instrumentation_utils.py:48\u001B[0m, in \u001B[0;36m_wrap_function.<locals>.wrapper\u001B[0;34m(*args, **kwargs)\u001B[0m\n\u001B[1;32m     46\u001B[0m start \u001B[38;5;241m=\u001B[39m time\u001B[38;5;241m.\u001B[39mperf_counter()\n\u001B[1;32m     47\u001B[0m \u001B[38;5;28;01mtry\u001B[39;00m:\n\u001B[0;32m---> 48\u001B[0m     res \u001B[38;5;241m=\u001B[39m \u001B[43mfunc\u001B[49m\u001B[43m(\u001B[49m\u001B[38;5;241;43m*\u001B[39;49m\u001B[43margs\u001B[49m\u001B[43m,\u001B[49m\u001B[43m \u001B[49m\u001B[38;5;241;43m*\u001B[39;49m\u001B[38;5;241;43m*\u001B[39;49m\u001B[43mkwargs\u001B[49m\u001B[43m)\u001B[49m\n\u001B[1;32m     49\u001B[0m     logger\u001B[38;5;241m.\u001B[39mlog_success(\n\u001B[1;32m     50\u001B[0m         module_name, class_name, function_name, time\u001B[38;5;241m.\u001B[39mperf_counter() \u001B[38;5;241m-\u001B[39m start, signature\n\u001B[1;32m     51\u001B[0m     )\n\u001B[1;32m     52\u001B[0m     \u001B[38;5;28;01mreturn\u001B[39;00m res\n\nFile \u001B[0;32m/databricks/spark/python/pyspark/sql/dataframe.py:920\u001B[0m, in \u001B[0;36mDataFrame.show\u001B[0;34m(self, n, truncate, vertical)\u001B[0m\n\u001B[1;32m    914\u001B[0m     \u001B[38;5;28;01mraise\u001B[39;00m PySparkTypeError(\n\u001B[1;32m    915\u001B[0m         error_class\u001B[38;5;241m=\u001B[39m\u001B[38;5;124m\"\u001B[39m\u001B[38;5;124mNOT_A_BOOLEAN\u001B[39m\u001B[38;5;124m\"\u001B[39m,\n\u001B[1;32m    916\u001B[0m         message_parameters\u001B[38;5;241m=\u001B[39m{\u001B[38;5;124m\"\u001B[39m\u001B[38;5;124marg_name\u001B[39m\u001B[38;5;124m\"\u001B[39m: \u001B[38;5;124m\"\u001B[39m\u001B[38;5;124mvertical\u001B[39m\u001B[38;5;124m\"\u001B[39m, \u001B[38;5;124m\"\u001B[39m\u001B[38;5;124marg_type\u001B[39m\u001B[38;5;124m\"\u001B[39m: \u001B[38;5;28mtype\u001B[39m(vertical)\u001B[38;5;241m.\u001B[39m\u001B[38;5;18m__name__\u001B[39m},\n\u001B[1;32m    917\u001B[0m     )\n\u001B[1;32m    919\u001B[0m \u001B[38;5;28;01mif\u001B[39;00m \u001B[38;5;28misinstance\u001B[39m(truncate, \u001B[38;5;28mbool\u001B[39m) \u001B[38;5;129;01mand\u001B[39;00m truncate:\n\u001B[0;32m--> 920\u001B[0m     \u001B[38;5;28mprint\u001B[39m(\u001B[38;5;28;43mself\u001B[39;49m\u001B[38;5;241;43m.\u001B[39;49m\u001B[43m_jdf\u001B[49m\u001B[38;5;241;43m.\u001B[39;49m\u001B[43mshowString\u001B[49m\u001B[43m(\u001B[49m\u001B[43mn\u001B[49m\u001B[43m,\u001B[49m\u001B[43m \u001B[49m\u001B[38;5;241;43m20\u001B[39;49m\u001B[43m,\u001B[49m\u001B[43m \u001B[49m\u001B[43mvertical\u001B[49m\u001B[43m)\u001B[49m)\n\u001B[1;32m    921\u001B[0m \u001B[38;5;28;01melse\u001B[39;00m:\n\u001B[1;32m    922\u001B[0m     \u001B[38;5;28;01mtry\u001B[39;00m:\n\nFile \u001B[0;32m/databricks/spark/python/lib/py4j-0.10.9.5-src.zip/py4j/java_gateway.py:1321\u001B[0m, in \u001B[0;36mJavaMember.__call__\u001B[0;34m(self, *args)\u001B[0m\n\u001B[1;32m   1315\u001B[0m command \u001B[38;5;241m=\u001B[39m proto\u001B[38;5;241m.\u001B[39mCALL_COMMAND_NAME \u001B[38;5;241m+\u001B[39m\\\n\u001B[1;32m   1316\u001B[0m     \u001B[38;5;28mself\u001B[39m\u001B[38;5;241m.\u001B[39mcommand_header \u001B[38;5;241m+\u001B[39m\\\n\u001B[1;32m   1317\u001B[0m     args_command \u001B[38;5;241m+\u001B[39m\\\n\u001B[1;32m   1318\u001B[0m     proto\u001B[38;5;241m.\u001B[39mEND_COMMAND_PART\n\u001B[1;32m   1320\u001B[0m answer \u001B[38;5;241m=\u001B[39m \u001B[38;5;28mself\u001B[39m\u001B[38;5;241m.\u001B[39mgateway_client\u001B[38;5;241m.\u001B[39msend_command(command)\n\u001B[0;32m-> 1321\u001B[0m return_value \u001B[38;5;241m=\u001B[39m \u001B[43mget_return_value\u001B[49m\u001B[43m(\u001B[49m\n\u001B[1;32m   1322\u001B[0m \u001B[43m    \u001B[49m\u001B[43manswer\u001B[49m\u001B[43m,\u001B[49m\u001B[43m \u001B[49m\u001B[38;5;28;43mself\u001B[39;49m\u001B[38;5;241;43m.\u001B[39;49m\u001B[43mgateway_client\u001B[49m\u001B[43m,\u001B[49m\u001B[43m \u001B[49m\u001B[38;5;28;43mself\u001B[39;49m\u001B[38;5;241;43m.\u001B[39;49m\u001B[43mtarget_id\u001B[49m\u001B[43m,\u001B[49m\u001B[43m \u001B[49m\u001B[38;5;28;43mself\u001B[39;49m\u001B[38;5;241;43m.\u001B[39;49m\u001B[43mname\u001B[49m\u001B[43m)\u001B[49m\n\u001B[1;32m   1324\u001B[0m \u001B[38;5;28;01mfor\u001B[39;00m temp_arg \u001B[38;5;129;01min\u001B[39;00m temp_args:\n\u001B[1;32m   1325\u001B[0m     temp_arg\u001B[38;5;241m.\u001B[39m_detach()\n\nFile \u001B[0;32m/databricks/spark/python/pyspark/errors/exceptions.py:228\u001B[0m, in \u001B[0;36mcapture_sql_exception.<locals>.deco\u001B[0;34m(*a, **kw)\u001B[0m\n\u001B[1;32m    226\u001B[0m \u001B[38;5;28;01mdef\u001B[39;00m \u001B[38;5;21mdeco\u001B[39m(\u001B[38;5;241m*\u001B[39ma: Any, \u001B[38;5;241m*\u001B[39m\u001B[38;5;241m*\u001B[39mkw: Any) \u001B[38;5;241m-\u001B[39m\u001B[38;5;241m>\u001B[39m Any:\n\u001B[1;32m    227\u001B[0m     \u001B[38;5;28;01mtry\u001B[39;00m:\n\u001B[0;32m--> 228\u001B[0m         \u001B[38;5;28;01mreturn\u001B[39;00m \u001B[43mf\u001B[49m\u001B[43m(\u001B[49m\u001B[38;5;241;43m*\u001B[39;49m\u001B[43ma\u001B[49m\u001B[43m,\u001B[49m\u001B[43m \u001B[49m\u001B[38;5;241;43m*\u001B[39;49m\u001B[38;5;241;43m*\u001B[39;49m\u001B[43mkw\u001B[49m\u001B[43m)\u001B[49m\n\u001B[1;32m    229\u001B[0m     \u001B[38;5;28;01mexcept\u001B[39;00m Py4JJavaError \u001B[38;5;28;01mas\u001B[39;00m e:\n\u001B[1;32m    230\u001B[0m         converted \u001B[38;5;241m=\u001B[39m convert_exception(e\u001B[38;5;241m.\u001B[39mjava_exception)\n\nFile \u001B[0;32m/databricks/spark/python/lib/py4j-0.10.9.5-src.zip/py4j/protocol.py:326\u001B[0m, in \u001B[0;36mget_return_value\u001B[0;34m(answer, gateway_client, target_id, name)\u001B[0m\n\u001B[1;32m    324\u001B[0m value \u001B[38;5;241m=\u001B[39m OUTPUT_CONVERTER[\u001B[38;5;28mtype\u001B[39m](answer[\u001B[38;5;241m2\u001B[39m:], gateway_client)\n\u001B[1;32m    325\u001B[0m \u001B[38;5;28;01mif\u001B[39;00m answer[\u001B[38;5;241m1\u001B[39m] \u001B[38;5;241m==\u001B[39m REFERENCE_TYPE:\n\u001B[0;32m--> 326\u001B[0m     \u001B[38;5;28;01mraise\u001B[39;00m Py4JJavaError(\n\u001B[1;32m    327\u001B[0m         \u001B[38;5;124m\"\u001B[39m\u001B[38;5;124mAn error occurred while calling \u001B[39m\u001B[38;5;132;01m{0}\u001B[39;00m\u001B[38;5;132;01m{1}\u001B[39;00m\u001B[38;5;132;01m{2}\u001B[39;00m\u001B[38;5;124m.\u001B[39m\u001B[38;5;130;01m\\n\u001B[39;00m\u001B[38;5;124m\"\u001B[39m\u001B[38;5;241m.\u001B[39m\n\u001B[1;32m    328\u001B[0m         \u001B[38;5;28mformat\u001B[39m(target_id, \u001B[38;5;124m\"\u001B[39m\u001B[38;5;124m.\u001B[39m\u001B[38;5;124m\"\u001B[39m, name), value)\n\u001B[1;32m    329\u001B[0m \u001B[38;5;28;01melse\u001B[39;00m:\n\u001B[1;32m    330\u001B[0m     \u001B[38;5;28;01mraise\u001B[39;00m Py4JError(\n\u001B[1;32m    331\u001B[0m         \u001B[38;5;124m\"\u001B[39m\u001B[38;5;124mAn error occurred while calling \u001B[39m\u001B[38;5;132;01m{0}\u001B[39;00m\u001B[38;5;132;01m{1}\u001B[39;00m\u001B[38;5;132;01m{2}\u001B[39;00m\u001B[38;5;124m. Trace:\u001B[39m\u001B[38;5;130;01m\\n\u001B[39;00m\u001B[38;5;132;01m{3}\u001B[39;00m\u001B[38;5;130;01m\\n\u001B[39;00m\u001B[38;5;124m\"\u001B[39m\u001B[38;5;241m.\u001B[39m\n\u001B[1;32m    332\u001B[0m         \u001B[38;5;28mformat\u001B[39m(target_id, \u001B[38;5;124m\"\u001B[39m\u001B[38;5;124m.\u001B[39m\u001B[38;5;124m\"\u001B[39m, name, value))\n\n\u001B[0;31mPy4JJavaError\u001B[0m: An error occurred while calling o1740.showString.\n: org.apache.spark.SparkException: Job aborted due to stage failure: Task 0 in stage 44.0 failed 1 times, most recent failure: Lost task 0.0 in stage 44.0 (TID 34) (ip-10-172-214-160.us-west-2.compute.internal executor driver): com.databricks.sql.io.FileReadException: Error while reading file dbfs:/FileStore/tables/cleaned_mental_health_data/Gender_Code=2/part-00000-tid-7787678676638161777-4245f7b3-84bf-41e2-8a69-245c8fb5f92a-14-1.c000.snappy.parquet. [DEFAULT_FILE_NOT_FOUND] It is possible the underlying files have been updated. You can explicitly invalidate the cache in Spark by running 'REFRESH TABLE tableName' command in SQL or by recreating the Dataset/DataFrame involved. If disk cache is stale or the underlying files have been removed, you can invalidate disk cache manually by restarting the cluster.\n\tat org.apache.spark.sql.execution.datasources.FileScanRDD$$anon$1$$anon$2.logFileNameAndThrow(FileScanRDD.scala:704)\n\tat org.apache.spark.sql.execution.datasources.FileScanRDD$$anon$1$$anon$2.getNext(FileScanRDD.scala:646)\n\tat org.apache.spark.util.NextIterator.hasNext(NextIterator.scala:73)\n\tat org.apache.spark.sql.execution.datasources.FileScanRDD$$anon$1.$anonfun$prepareNextFile$1(FileScanRDD.scala:879)\n\tat scala.concurrent.Future$.$anonfun$apply$1(Future.scala:659)\n\tat scala.util.Success.$anonfun$map$1(Try.scala:255)\n\tat scala.util.Success.map(Try.scala:213)\n\tat scala.concurrent.Future.$anonfun$map$1(Future.scala:292)\n\tat scala.concurrent.impl.Promise.liftedTree1$1(Promise.scala:33)\n\tat scala.concurrent.impl.Promise.$anonfun$transform$1(Promise.scala:33)\n\tat scala.concurrent.impl.CallbackRunnable.run(Promise.scala:64)\n\tat org.apache.spark.util.threads.SparkThreadLocalCapturingRunnable.$anonfun$run$1(SparkThreadLocalForwardingThreadPoolExecutor.scala:116)\n\tat scala.runtime.java8.JFunction0$mcV$sp.apply(JFunction0$mcV$sp.java:23)\n\tat com.databricks.spark.util.IdentityClaim$.withClaim(IdentityClaim.scala:48)\n\tat org.apache.spark.util.threads.SparkThreadLocalCapturingHelper.$anonfun$runWithCaptured$4(SparkThreadLocalForwardingThreadPoolExecutor.scala:79)\n\tat com.databricks.unity.UCSEphemeralState$Handle.runWith(UCSEphemeralState.scala:41)\n\tat org.apache.spark.util.threads.SparkThreadLocalCapturingHelper.runWithCaptured(SparkThreadLocalForwardingThreadPoolExecutor.scala:78)\n\tat org.apache.spark.util.threads.SparkThreadLocalCapturingHelper.runWithCaptured$(SparkThreadLocalForwardingThreadPoolExecutor.scala:64)\n\tat org.apache.spark.util.threads.SparkThreadLocalCapturingRunnable.runWithCaptured(SparkThreadLocalForwardingThreadPoolExecutor.scala:113)\n\tat org.apache.spark.util.threads.SparkThreadLocalCapturingRunnable.run(SparkThreadLocalForwardingThreadPoolExecutor.scala:116)\n\tat java.util.concurrent.ThreadPoolExecutor.runWorker(ThreadPoolExecutor.java:1149)\n\tat java.util.concurrent.ThreadPoolExecutor$Worker.run(ThreadPoolExecutor.java:624)\n\tat java.lang.Thread.run(Thread.java:750)\nCaused by: java.io.FileNotFoundException: /FileStore/tables/cleaned_mental_health_data/Gender_Code=2/part-00000-tid-7787678676638161777-4245f7b3-84bf-41e2-8a69-245c8fb5f92a-14-1.c000.snappy.parquet\n\tat com.databricks.backend.daemon.data.client.DbfsClient.send0(DbfsClient.scala:121)\n\tat com.databricks.backend.daemon.data.client.DbfsClient.sendIdempotent(DbfsClient.scala:69)\n\tat com.databricks.backend.daemon.data.client.DatabricksFileSystemV1.getFileStatus(DatabricksFileSystemV1.scala:272)\n\tat com.databricks.backend.daemon.data.client.DatabricksFileSystem.getFileStatus(DatabricksFileSystem.scala:212)\n\tat com.databricks.spark.metrics.FileSystemWithMetrics.getFileStatus(FileSystemWithMetrics.scala:399)\n\tat com.databricks.sql.io.parquet.CachingParquetFooterReader.readFooter(CachingParquetFooterReader.java:203)\n\tat com.databricks.sql.io.parquet.CachingParquetFileReader.readFooter(CachingParquetFileReader.java:412)\n\tat org.apache.spark.sql.execution.datasources.parquet.SpecificParquetRecordReaderBase.prepare(SpecificParquetRecordReaderBase.java:157)\n\tat org.apache.spark.sql.execution.datasources.parquet.ParquetFileFormat$$anon$1.apply(ParquetFileFormat.scala:421)\n\tat org.apache.spark.sql.execution.datasources.parquet.ParquetFileFormat$$anon$1.apply(ParquetFileFormat.scala:276)\n\tat org.apache.spark.sql.execution.datasources.FileScanRDD$$anon$1$$anon$2.getNext(FileScanRDD.scala:617)\n\t... 21 more\n\nDriver stacktrace:\n\tat org.apache.spark.scheduler.DAGScheduler.failJobAndIndependentStages(DAGScheduler.scala:3440)\n\tat org.apache.spark.scheduler.DAGScheduler.$anonfun$abortStage$2(DAGScheduler.scala:3362)\n\tat org.apache.spark.scheduler.DAGScheduler.$anonfun$abortStage$2$adapted(DAGScheduler.scala:3351)\n\tat scala.collection.mutable.ResizableArray.foreach(ResizableArray.scala:62)\n\tat scala.collection.mutable.ResizableArray.foreach$(ResizableArray.scala:55)\n\tat scala.collection.mutable.ArrayBuffer.foreach(ArrayBuffer.scala:49)\n\tat org.apache.spark.scheduler.DAGScheduler.abortStage(DAGScheduler.scala:3351)\n\tat org.apache.spark.scheduler.DAGScheduler.$anonfun$handleTaskSetFailed$1(DAGScheduler.scala:1460)\n\tat org.apache.spark.scheduler.DAGScheduler.$anonfun$handleTaskSetFailed$1$adapted(DAGScheduler.scala:1460)\n\tat scala.Option.foreach(Option.scala:407)\n\tat org.apache.spark.scheduler.DAGScheduler.handleTaskSetFailed(DAGScheduler.scala:1460)\n\tat org.apache.spark.scheduler.DAGSchedulerEventProcessLoop.doOnReceive(DAGScheduler.scala:3651)\n\tat org.apache.spark.scheduler.DAGSchedulerEventProcessLoop.onReceive(DAGScheduler.scala:3589)\n\tat org.apache.spark.scheduler.DAGSchedulerEventProcessLoop.onReceive(DAGScheduler.scala:3577)\n\tat org.apache.spark.util.EventLoop$$anon$1.run(EventLoop.scala:51)\nCaused by: com.databricks.sql.io.FileReadException: Error while reading file dbfs:/FileStore/tables/cleaned_mental_health_data/Gender_Code=2/part-00000-tid-7787678676638161777-4245f7b3-84bf-41e2-8a69-245c8fb5f92a-14-1.c000.snappy.parquet. [DEFAULT_FILE_NOT_FOUND] It is possible the underlying files have been updated. You can explicitly invalidate the cache in Spark by running 'REFRESH TABLE tableName' command in SQL or by recreating the Dataset/DataFrame involved. If disk cache is stale or the underlying files have been removed, you can invalidate disk cache manually by restarting the cluster.\n\tat org.apache.spark.sql.execution.datasources.FileScanRDD$$anon$1$$anon$2.logFileNameAndThrow(FileScanRDD.scala:704)\n\tat org.apache.spark.sql.execution.datasources.FileScanRDD$$anon$1$$anon$2.getNext(FileScanRDD.scala:646)\n\tat org.apache.spark.util.NextIterator.hasNext(NextIterator.scala:73)\n\tat org.apache.spark.sql.execution.datasources.FileScanRDD$$anon$1.$anonfun$prepareNextFile$1(FileScanRDD.scala:879)\n\tat scala.concurrent.Future$.$anonfun$apply$1(Future.scala:659)\n\tat scala.util.Success.$anonfun$map$1(Try.scala:255)\n\tat scala.util.Success.map(Try.scala:213)\n\tat scala.concurrent.Future.$anonfun$map$1(Future.scala:292)\n\tat scala.concurrent.impl.Promise.liftedTree1$1(Promise.scala:33)\n\tat scala.concurrent.impl.Promise.$anonfun$transform$1(Promise.scala:33)\n\tat scala.concurrent.impl.CallbackRunnable.run(Promise.scala:64)\n\tat org.apache.spark.util.threads.SparkThreadLocalCapturingRunnable.$anonfun$run$1(SparkThreadLocalForwardingThreadPoolExecutor.scala:116)\n\tat scala.runtime.java8.JFunction0$mcV$sp.apply(JFunction0$mcV$sp.java:23)\n\tat com.databricks.spark.util.IdentityClaim$.withClaim(IdentityClaim.scala:48)\n\tat org.apache.spark.util.threads.SparkThreadLocalCapturingHelper.$anonfun$runWithCaptured$4(SparkThreadLocalForwardingThreadPoolExecutor.scala:79)\n\tat com.databricks.unity.UCSEphemeralState$Handle.runWith(UCSEphemeralState.scala:41)\n\tat org.apache.spark.util.threads.SparkThreadLocalCapturingHelper.runWithCaptured(SparkThreadLocalForwardingThreadPoolExecutor.scala:78)\n\tat org.apache.spark.util.threads.SparkThreadLocalCapturingHelper.runWithCaptured$(SparkThreadLocalForwardingThreadPoolExecutor.scala:64)\n\tat org.apache.spark.util.threads.SparkThreadLocalCapturingRunnable.runWithCaptured(SparkThreadLocalForwardingThreadPoolExecutor.scala:113)\n\tat org.apache.spark.util.threads.SparkThreadLocalCapturingRunnable.run(SparkThreadLocalForwardingThreadPoolExecutor.scala:116)\n\tat java.util.concurrent.ThreadPoolExecutor.runWorker(ThreadPoolExecutor.java:1149)\n\tat java.util.concurrent.ThreadPoolExecutor$Worker.run(ThreadPoolExecutor.java:624)\n\tat java.lang.Thread.run(Thread.java:750)\nCaused by: java.io.FileNotFoundException: /FileStore/tables/cleaned_mental_health_data/Gender_Code=2/part-00000-tid-7787678676638161777-4245f7b3-84bf-41e2-8a69-245c8fb5f92a-14-1.c000.snappy.parquet\n\tat com.databricks.backend.daemon.data.client.DbfsClient.send0(DbfsClient.scala:121)\n\tat com.databricks.backend.daemon.data.client.DbfsClient.sendIdempotent(DbfsClient.scala:69)\n\tat com.databricks.backend.daemon.data.client.DatabricksFileSystemV1.getFileStatus(DatabricksFileSystemV1.scala:272)\n\tat com.databricks.backend.daemon.data.client.DatabricksFileSystem.getFileStatus(DatabricksFileSystem.scala:212)\n\tat com.databricks.spark.metrics.FileSystemWithMetrics.getFileStatus(FileSystemWithMetrics.scala:399)\n\tat com.databricks.sql.io.parquet.CachingParquetFooterReader.readFooter(CachingParquetFooterReader.java:203)\n\tat com.databricks.sql.io.parquet.CachingParquetFileReader.readFooter(CachingParquetFileReader.java:412)\n\tat org.apache.spark.sql.execution.datasources.parquet.SpecificParquetRecordReaderBase.prepare(SpecificParquetRecordReaderBase.java:157)\n\tat org.apache.spark.sql.execution.datasources.parquet.ParquetFileFormat$$anon$1.apply(ParquetFileFormat.scala:421)\n\tat org.apache.spark.sql.execution.datasources.parquet.ParquetFileFormat$$anon$1.apply(ParquetFileFormat.scala:276)\n\tat org.apache.spark.sql.execution.datasources.FileScanRDD$$anon$1$$anon$2.getNext(FileScanRDD.scala:617)\n\t... 21 more\n",
       "errorSummary": "org.apache.spark.SparkException: Job aborted due to stage failure: Task 0 in stage 44.0 failed 1 times, most recent failure: Lost task 0.0 in stage 44.0 (TID 34) (ip-10-172-214-160.us-west-2.compute.internal executor driver): com.databricks.sql.io.FileReadException: Error while reading file dbfs:/FileStore/tables/cleaned_mental_health_data/Gender_Code=2/part-00000-tid-7787678676638161777-4245f7b3-84bf-41e2-8a69-245c8fb5f92a-14-1.c000.snappy.parquet. [DEFAULT_FILE_NOT_FOUND] It is possible the underlying files have been updated. You can explicitly invalidate the cache in Spark by running 'REFRESH TABLE tableName' command in SQL or by recreating the Dataset/DataFrame involved. If disk cache is stale or the underlying files have been removed, you can invalidate disk cache manually by restarting the cluster.",
       "errorTraceType": "ansi",
       "metadata": {},
       "type": "ipynbError"
      }
     },
     "output_type": "display_data"
    }
   ],
   "source": [
    "spark.sql(\"\"\"\n",
    "    SELECT Gender_Code,\n",
    "           COUNT(*) AS total,\n",
    "           AVG(Total_Mental_Health_Score) AS avg_score,\n",
    "           AVG(Life_Satisfaction_Score) AS avg_life\n",
    "    FROM mental_health_data\n",
    "    GROUP BY Gender_Code\n",
    "\"\"\").show()\n"
   ]
  },
  {
   "cell_type": "code",
   "execution_count": 0,
   "metadata": {
    "application/vnd.databricks.v1+cell": {
     "cellMetadata": {
      "byteLimit": 2048000,
      "rowLimit": 10000
     },
     "inputWidgets": {},
     "nuid": "7126bfa5-ddd9-4eda-bc8f-b1fc52d5c87d",
     "showTitle": false,
     "tableResultSettingsMap": {},
     "title": ""
    }
   },
   "outputs": [],
   "source": [
    "spark.catalog.clearCache()\n"
   ]
  },
  {
   "cell_type": "code",
   "execution_count": 0,
   "metadata": {
    "application/vnd.databricks.v1+cell": {
     "cellMetadata": {
      "byteLimit": 2048000,
      "rowLimit": 10000
     },
     "inputWidgets": {},
     "nuid": "55067bb3-34af-4cf4-8603-1bab748bb592",
     "showTitle": false,
     "tableResultSettingsMap": {},
     "title": ""
    }
   },
   "outputs": [],
   "source": [
    "df_cleaned = spark.read.parquet(\"/FileStore/tables/cleaned_mental_health_data\")\n",
    "df_cleaned.createOrReplaceTempView(\"mental_health_data\")\n"
   ]
  },
  {
   "cell_type": "code",
   "execution_count": 0,
   "metadata": {
    "application/vnd.databricks.v1+cell": {
     "cellMetadata": {
      "byteLimit": 2048000,
      "rowLimit": 10000
     },
     "inputWidgets": {},
     "nuid": "0664137b-50fa-45c0-a731-408c0c3ab4c0",
     "showTitle": false,
     "tableResultSettingsMap": {},
     "title": ""
    }
   },
   "outputs": [
    {
     "output_type": "stream",
     "name": "stdout",
     "output_type": "stream",
     "text": [
      "+-----------+--------+------------------------------+\n|Gender_Code|count(1)|avg(Total_Mental_Health_Score)|\n+-----------+--------+------------------------------+\n|          1|     569|             26.15992970123023|\n|          0|     520|            25.986538461538462|\n|          2|      90|            26.877777777777776|\n|          3|      21|            26.523809523809526|\n+-----------+--------+------------------------------+\n\n"
     ]
    }
   ],
   "source": [
    "spark.sql(\"\"\"\n",
    "    SELECT Gender_Code, COUNT(*), AVG(Total_Mental_Health_Score)\n",
    "    FROM mental_health_data\n",
    "    GROUP BY Gender_Code\n",
    "\"\"\").show()\n"
   ]
  },
  {
   "cell_type": "code",
   "execution_count": 0,
   "metadata": {
    "application/vnd.databricks.v1+cell": {
     "cellMetadata": {
      "byteLimit": 2048000,
      "rowLimit": 10000
     },
     "inputWidgets": {},
     "nuid": "596f4ccb-0516-4e3e-9c7e-e75c3e80f8d8",
     "showTitle": false,
     "tableResultSettingsMap": {},
     "title": ""
    }
   },
   "outputs": [
    {
     "output_type": "stream",
     "name": "stdout",
     "output_type": "stream",
     "text": [
      "+-------+-----------------+-----------------+-----------------+------------------+------------------+-------------------------+-------------------+-----------------------+------------------+\n|summary|              Age|Employment_Status|    Anxiety_Score|  Depression_Score|      Stress_Level|Total_Mental_Health_Score|   High_Stress_Flag|Life_Satisfaction_Score|       Gender_Code|\n+-------+-----------------+-----------------+-----------------+------------------+------------------+-------------------------+-------------------+-----------------------+------------------+\n|  count|             1200|             1200|             1200|              1200|              1200|                     1200|               1200|                   1200|              1200|\n|   mean|          46.3175|             null|            10.47|10.674166666666666|5.0008333333333335|                   26.145|0.21833333333333332|                   5.12|0.6766666666666666|\n| stddev|16.45115682510109|             null|5.911137901685593| 5.632889179273562|  2.53828059176371|        8.455484670763385|0.41328710046616746|     2.5699099266042476|0.6886102252054037|\n|    min|               18|         Employed|                1|                 1|                 1|                      3.0|                  0|                      1|                 0|\n|    max|               74|       Unemployed|                9|                 9|                 9|                     47.0|                  1|                      9|                 3|\n+-------+-----------------+-----------------+-----------------+------------------+------------------+-------------------------+-------------------+-----------------------+------------------+\n\n"
     ]
    }
   ],
   "source": [
    "df_cleaned.describe().show()\n"
   ]
  },
  {
   "cell_type": "code",
   "execution_count": 0,
   "metadata": {
    "application/vnd.databricks.v1+cell": {
     "cellMetadata": {
      "byteLimit": 2048000,
      "rowLimit": 10000
     },
     "inputWidgets": {},
     "nuid": "78d44f79-9576-4e72-aea0-08d6ad3c5089",
     "showTitle": false,
     "tableResultSettingsMap": {},
     "title": ""
    }
   },
   "outputs": [
    {
     "output_type": "stream",
     "name": "stdout",
     "output_type": "stream",
     "text": [
      "+-----------+--------+-----------------+\n|Gender_Code|count(1)|avg(Stress_Level)|\n+-----------+--------+-----------------+\n|          1|     569|4.927943760984183|\n|          0|     520|5.048076923076923|\n|          2|      90|5.122222222222222|\n|          3|      21|5.285714285714286|\n+-----------+--------+-----------------+\n\n"
     ]
    }
   ],
   "source": [
    "spark.sql(\"\"\"\n",
    "    SELECT Gender_Code, COUNT(*), AVG(Stress_Level)\n",
    "    FROM mental_health_data\n",
    "    GROUP BY Gender_Code\n",
    "\"\"\").show()"
   ]
  },
  {
   "cell_type": "code",
   "execution_count": 0,
   "metadata": {
    "application/vnd.databricks.v1+cell": {
     "cellMetadata": {
      "byteLimit": 2048000,
      "rowLimit": 10000
     },
     "inputWidgets": {},
     "nuid": "9b905b2d-3183-4dcf-8f44-38f1b6579ce4",
     "showTitle": false,
     "tableResultSettingsMap": {},
     "title": ""
    }
   },
   "outputs": [
    {
     "output_type": "display_data",
     "data": {
      "text/plain": [
       "\u001B[0;31m---------------------------------------------------------------------------\u001B[0m\n",
       "\u001B[0;31mIllegalArgumentException\u001B[0m                  Traceback (most recent call last)\n",
       "File \u001B[0;32m<command-2523299416587860>:1\u001B[0m\n",
       "\u001B[0;32m----> 1\u001B[0m \u001B[43mdf_cleaned\u001B[49m\u001B[38;5;241;43m.\u001B[39;49m\u001B[43mstat\u001B[49m\u001B[38;5;241;43m.\u001B[39;49m\u001B[43mcorr\u001B[49m\u001B[43m(\u001B[49m\u001B[38;5;124;43m\"\u001B[39;49m\u001B[38;5;124;43mTotal_Mental_Health_Score\u001B[39;49m\u001B[38;5;124;43m\"\u001B[39;49m\u001B[43m,\u001B[49m\u001B[43m \u001B[49m\u001B[38;5;124;43m\"\u001B[39;49m\u001B[38;5;124;43mLife_Satisfaction_Score\u001B[39;49m\u001B[38;5;124;43m\"\u001B[39;49m\u001B[43m)\u001B[49m\n",
       "\n",
       "File \u001B[0;32m/databricks/spark/python/pyspark/instrumentation_utils.py:48\u001B[0m, in \u001B[0;36m_wrap_function.<locals>.wrapper\u001B[0;34m(*args, **kwargs)\u001B[0m\n",
       "\u001B[1;32m     46\u001B[0m start \u001B[38;5;241m=\u001B[39m time\u001B[38;5;241m.\u001B[39mperf_counter()\n",
       "\u001B[1;32m     47\u001B[0m \u001B[38;5;28;01mtry\u001B[39;00m:\n",
       "\u001B[0;32m---> 48\u001B[0m     res \u001B[38;5;241m=\u001B[39m \u001B[43mfunc\u001B[49m\u001B[43m(\u001B[49m\u001B[38;5;241;43m*\u001B[39;49m\u001B[43margs\u001B[49m\u001B[43m,\u001B[49m\u001B[43m \u001B[49m\u001B[38;5;241;43m*\u001B[39;49m\u001B[38;5;241;43m*\u001B[39;49m\u001B[43mkwargs\u001B[49m\u001B[43m)\u001B[49m\n",
       "\u001B[1;32m     49\u001B[0m     logger\u001B[38;5;241m.\u001B[39mlog_success(\n",
       "\u001B[1;32m     50\u001B[0m         module_name, class_name, function_name, time\u001B[38;5;241m.\u001B[39mperf_counter() \u001B[38;5;241m-\u001B[39m start, signature\n",
       "\u001B[1;32m     51\u001B[0m     )\n",
       "\u001B[1;32m     52\u001B[0m     \u001B[38;5;28;01mreturn\u001B[39;00m res\n",
       "\n",
       "File \u001B[0;32m/databricks/spark/python/pyspark/sql/dataframe.py:5375\u001B[0m, in \u001B[0;36mDataFrameStatFunctions.corr\u001B[0;34m(self, col1, col2, method)\u001B[0m\n",
       "\u001B[1;32m   5374\u001B[0m \u001B[38;5;28;01mdef\u001B[39;00m \u001B[38;5;21mcorr\u001B[39m(\u001B[38;5;28mself\u001B[39m, col1: \u001B[38;5;28mstr\u001B[39m, col2: \u001B[38;5;28mstr\u001B[39m, method: Optional[\u001B[38;5;28mstr\u001B[39m] \u001B[38;5;241m=\u001B[39m \u001B[38;5;28;01mNone\u001B[39;00m) \u001B[38;5;241m-\u001B[39m\u001B[38;5;241m>\u001B[39m \u001B[38;5;28mfloat\u001B[39m:\n",
       "\u001B[0;32m-> 5375\u001B[0m     \u001B[38;5;28;01mreturn\u001B[39;00m \u001B[38;5;28;43mself\u001B[39;49m\u001B[38;5;241;43m.\u001B[39;49m\u001B[43mdf\u001B[49m\u001B[38;5;241;43m.\u001B[39;49m\u001B[43mcorr\u001B[49m\u001B[43m(\u001B[49m\u001B[43mcol1\u001B[49m\u001B[43m,\u001B[49m\u001B[43m \u001B[49m\u001B[43mcol2\u001B[49m\u001B[43m,\u001B[49m\u001B[43m \u001B[49m\u001B[43mmethod\u001B[49m\u001B[43m)\u001B[49m\n",
       "\n",
       "File \u001B[0;32m/databricks/spark/python/pyspark/instrumentation_utils.py:43\u001B[0m, in \u001B[0;36m_wrap_function.<locals>.wrapper\u001B[0;34m(*args, **kwargs)\u001B[0m\n",
       "\u001B[1;32m     39\u001B[0m \u001B[38;5;129m@functools\u001B[39m\u001B[38;5;241m.\u001B[39mwraps(func)\n",
       "\u001B[1;32m     40\u001B[0m \u001B[38;5;28;01mdef\u001B[39;00m \u001B[38;5;21mwrapper\u001B[39m(\u001B[38;5;241m*\u001B[39margs: Any, \u001B[38;5;241m*\u001B[39m\u001B[38;5;241m*\u001B[39mkwargs: Any) \u001B[38;5;241m-\u001B[39m\u001B[38;5;241m>\u001B[39m Any:\n",
       "\u001B[1;32m     41\u001B[0m     \u001B[38;5;28;01mif\u001B[39;00m \u001B[38;5;28mhasattr\u001B[39m(_local, \u001B[38;5;124m\"\u001B[39m\u001B[38;5;124mlogging\u001B[39m\u001B[38;5;124m\"\u001B[39m) \u001B[38;5;129;01mand\u001B[39;00m _local\u001B[38;5;241m.\u001B[39mlogging:\n",
       "\u001B[1;32m     42\u001B[0m         \u001B[38;5;66;03m# no need to log since this should be internal call.\u001B[39;00m\n",
       "\u001B[0;32m---> 43\u001B[0m         \u001B[38;5;28;01mreturn\u001B[39;00m \u001B[43mfunc\u001B[49m\u001B[43m(\u001B[49m\u001B[38;5;241;43m*\u001B[39;49m\u001B[43margs\u001B[49m\u001B[43m,\u001B[49m\u001B[43m \u001B[49m\u001B[38;5;241;43m*\u001B[39;49m\u001B[38;5;241;43m*\u001B[39;49m\u001B[43mkwargs\u001B[49m\u001B[43m)\u001B[49m\n",
       "\u001B[1;32m     44\u001B[0m     _local\u001B[38;5;241m.\u001B[39mlogging \u001B[38;5;241m=\u001B[39m \u001B[38;5;28;01mTrue\u001B[39;00m\n",
       "\u001B[1;32m     45\u001B[0m     \u001B[38;5;28;01mtry\u001B[39;00m:\n",
       "\n",
       "File \u001B[0;32m/databricks/spark/python/pyspark/sql/dataframe.py:4507\u001B[0m, in \u001B[0;36mDataFrame.corr\u001B[0;34m(self, col1, col2, method)\u001B[0m\n",
       "\u001B[1;32m   4502\u001B[0m \u001B[38;5;28;01mif\u001B[39;00m \u001B[38;5;129;01mnot\u001B[39;00m method \u001B[38;5;241m==\u001B[39m \u001B[38;5;124m\"\u001B[39m\u001B[38;5;124mpearson\u001B[39m\u001B[38;5;124m\"\u001B[39m:\n",
       "\u001B[1;32m   4503\u001B[0m     \u001B[38;5;28;01mraise\u001B[39;00m \u001B[38;5;167;01mValueError\u001B[39;00m(\n",
       "\u001B[1;32m   4504\u001B[0m         \u001B[38;5;124m\"\u001B[39m\u001B[38;5;124mCurrently only the calculation of the Pearson Correlation \u001B[39m\u001B[38;5;124m\"\u001B[39m\n",
       "\u001B[1;32m   4505\u001B[0m         \u001B[38;5;241m+\u001B[39m \u001B[38;5;124m\"\u001B[39m\u001B[38;5;124mcoefficient is supported.\u001B[39m\u001B[38;5;124m\"\u001B[39m\n",
       "\u001B[1;32m   4506\u001B[0m     )\n",
       "\u001B[0;32m-> 4507\u001B[0m \u001B[38;5;28;01mreturn\u001B[39;00m \u001B[38;5;28;43mself\u001B[39;49m\u001B[38;5;241;43m.\u001B[39;49m\u001B[43m_jdf\u001B[49m\u001B[38;5;241;43m.\u001B[39;49m\u001B[43mstat\u001B[49m\u001B[43m(\u001B[49m\u001B[43m)\u001B[49m\u001B[38;5;241;43m.\u001B[39;49m\u001B[43mcorr\u001B[49m\u001B[43m(\u001B[49m\u001B[43mcol1\u001B[49m\u001B[43m,\u001B[49m\u001B[43m \u001B[49m\u001B[43mcol2\u001B[49m\u001B[43m,\u001B[49m\u001B[43m \u001B[49m\u001B[43mmethod\u001B[49m\u001B[43m)\u001B[49m\n",
       "\n",
       "File \u001B[0;32m/databricks/spark/python/lib/py4j-0.10.9.5-src.zip/py4j/java_gateway.py:1321\u001B[0m, in \u001B[0;36mJavaMember.__call__\u001B[0;34m(self, *args)\u001B[0m\n",
       "\u001B[1;32m   1315\u001B[0m command \u001B[38;5;241m=\u001B[39m proto\u001B[38;5;241m.\u001B[39mCALL_COMMAND_NAME \u001B[38;5;241m+\u001B[39m\\\n",
       "\u001B[1;32m   1316\u001B[0m     \u001B[38;5;28mself\u001B[39m\u001B[38;5;241m.\u001B[39mcommand_header \u001B[38;5;241m+\u001B[39m\\\n",
       "\u001B[1;32m   1317\u001B[0m     args_command \u001B[38;5;241m+\u001B[39m\\\n",
       "\u001B[1;32m   1318\u001B[0m     proto\u001B[38;5;241m.\u001B[39mEND_COMMAND_PART\n",
       "\u001B[1;32m   1320\u001B[0m answer \u001B[38;5;241m=\u001B[39m \u001B[38;5;28mself\u001B[39m\u001B[38;5;241m.\u001B[39mgateway_client\u001B[38;5;241m.\u001B[39msend_command(command)\n",
       "\u001B[0;32m-> 1321\u001B[0m return_value \u001B[38;5;241m=\u001B[39m \u001B[43mget_return_value\u001B[49m\u001B[43m(\u001B[49m\n",
       "\u001B[1;32m   1322\u001B[0m \u001B[43m    \u001B[49m\u001B[43manswer\u001B[49m\u001B[43m,\u001B[49m\u001B[43m \u001B[49m\u001B[38;5;28;43mself\u001B[39;49m\u001B[38;5;241;43m.\u001B[39;49m\u001B[43mgateway_client\u001B[49m\u001B[43m,\u001B[49m\u001B[43m \u001B[49m\u001B[38;5;28;43mself\u001B[39;49m\u001B[38;5;241;43m.\u001B[39;49m\u001B[43mtarget_id\u001B[49m\u001B[43m,\u001B[49m\u001B[43m \u001B[49m\u001B[38;5;28;43mself\u001B[39;49m\u001B[38;5;241;43m.\u001B[39;49m\u001B[43mname\u001B[49m\u001B[43m)\u001B[49m\n",
       "\u001B[1;32m   1324\u001B[0m \u001B[38;5;28;01mfor\u001B[39;00m temp_arg \u001B[38;5;129;01min\u001B[39;00m temp_args:\n",
       "\u001B[1;32m   1325\u001B[0m     temp_arg\u001B[38;5;241m.\u001B[39m_detach()\n",
       "\n",
       "File \u001B[0;32m/databricks/spark/python/pyspark/errors/exceptions.py:234\u001B[0m, in \u001B[0;36mcapture_sql_exception.<locals>.deco\u001B[0;34m(*a, **kw)\u001B[0m\n",
       "\u001B[1;32m    230\u001B[0m converted \u001B[38;5;241m=\u001B[39m convert_exception(e\u001B[38;5;241m.\u001B[39mjava_exception)\n",
       "\u001B[1;32m    231\u001B[0m \u001B[38;5;28;01mif\u001B[39;00m \u001B[38;5;129;01mnot\u001B[39;00m \u001B[38;5;28misinstance\u001B[39m(converted, UnknownException):\n",
       "\u001B[1;32m    232\u001B[0m     \u001B[38;5;66;03m# Hide where the exception came from that shows a non-Pythonic\u001B[39;00m\n",
       "\u001B[1;32m    233\u001B[0m     \u001B[38;5;66;03m# JVM exception message.\u001B[39;00m\n",
       "\u001B[0;32m--> 234\u001B[0m     \u001B[38;5;28;01mraise\u001B[39;00m converted \u001B[38;5;28;01mfrom\u001B[39;00m \u001B[38;5;28mNone\u001B[39m\n",
       "\u001B[1;32m    235\u001B[0m \u001B[38;5;28;01melse\u001B[39;00m:\n",
       "\u001B[1;32m    236\u001B[0m     \u001B[38;5;28;01mraise\u001B[39;00m\n",
       "\n",
       "\u001B[0;31mIllegalArgumentException\u001B[0m: requirement failed: Currently correlation calculation for columns with dataType string not supported."
      ]
     },
     "metadata": {
      "application/vnd.databricks.v1+output": {
       "arguments": {},
       "data": "\u001B[0;31m---------------------------------------------------------------------------\u001B[0m\n\u001B[0;31mIllegalArgumentException\u001B[0m                  Traceback (most recent call last)\nFile \u001B[0;32m<command-2523299416587860>:1\u001B[0m\n\u001B[0;32m----> 1\u001B[0m \u001B[43mdf_cleaned\u001B[49m\u001B[38;5;241;43m.\u001B[39;49m\u001B[43mstat\u001B[49m\u001B[38;5;241;43m.\u001B[39;49m\u001B[43mcorr\u001B[49m\u001B[43m(\u001B[49m\u001B[38;5;124;43m\"\u001B[39;49m\u001B[38;5;124;43mTotal_Mental_Health_Score\u001B[39;49m\u001B[38;5;124;43m\"\u001B[39;49m\u001B[43m,\u001B[49m\u001B[43m \u001B[49m\u001B[38;5;124;43m\"\u001B[39;49m\u001B[38;5;124;43mLife_Satisfaction_Score\u001B[39;49m\u001B[38;5;124;43m\"\u001B[39;49m\u001B[43m)\u001B[49m\n\nFile \u001B[0;32m/databricks/spark/python/pyspark/instrumentation_utils.py:48\u001B[0m, in \u001B[0;36m_wrap_function.<locals>.wrapper\u001B[0;34m(*args, **kwargs)\u001B[0m\n\u001B[1;32m     46\u001B[0m start \u001B[38;5;241m=\u001B[39m time\u001B[38;5;241m.\u001B[39mperf_counter()\n\u001B[1;32m     47\u001B[0m \u001B[38;5;28;01mtry\u001B[39;00m:\n\u001B[0;32m---> 48\u001B[0m     res \u001B[38;5;241m=\u001B[39m \u001B[43mfunc\u001B[49m\u001B[43m(\u001B[49m\u001B[38;5;241;43m*\u001B[39;49m\u001B[43margs\u001B[49m\u001B[43m,\u001B[49m\u001B[43m \u001B[49m\u001B[38;5;241;43m*\u001B[39;49m\u001B[38;5;241;43m*\u001B[39;49m\u001B[43mkwargs\u001B[49m\u001B[43m)\u001B[49m\n\u001B[1;32m     49\u001B[0m     logger\u001B[38;5;241m.\u001B[39mlog_success(\n\u001B[1;32m     50\u001B[0m         module_name, class_name, function_name, time\u001B[38;5;241m.\u001B[39mperf_counter() \u001B[38;5;241m-\u001B[39m start, signature\n\u001B[1;32m     51\u001B[0m     )\n\u001B[1;32m     52\u001B[0m     \u001B[38;5;28;01mreturn\u001B[39;00m res\n\nFile \u001B[0;32m/databricks/spark/python/pyspark/sql/dataframe.py:5375\u001B[0m, in \u001B[0;36mDataFrameStatFunctions.corr\u001B[0;34m(self, col1, col2, method)\u001B[0m\n\u001B[1;32m   5374\u001B[0m \u001B[38;5;28;01mdef\u001B[39;00m \u001B[38;5;21mcorr\u001B[39m(\u001B[38;5;28mself\u001B[39m, col1: \u001B[38;5;28mstr\u001B[39m, col2: \u001B[38;5;28mstr\u001B[39m, method: Optional[\u001B[38;5;28mstr\u001B[39m] \u001B[38;5;241m=\u001B[39m \u001B[38;5;28;01mNone\u001B[39;00m) \u001B[38;5;241m-\u001B[39m\u001B[38;5;241m>\u001B[39m \u001B[38;5;28mfloat\u001B[39m:\n\u001B[0;32m-> 5375\u001B[0m     \u001B[38;5;28;01mreturn\u001B[39;00m \u001B[38;5;28;43mself\u001B[39;49m\u001B[38;5;241;43m.\u001B[39;49m\u001B[43mdf\u001B[49m\u001B[38;5;241;43m.\u001B[39;49m\u001B[43mcorr\u001B[49m\u001B[43m(\u001B[49m\u001B[43mcol1\u001B[49m\u001B[43m,\u001B[49m\u001B[43m \u001B[49m\u001B[43mcol2\u001B[49m\u001B[43m,\u001B[49m\u001B[43m \u001B[49m\u001B[43mmethod\u001B[49m\u001B[43m)\u001B[49m\n\nFile \u001B[0;32m/databricks/spark/python/pyspark/instrumentation_utils.py:43\u001B[0m, in \u001B[0;36m_wrap_function.<locals>.wrapper\u001B[0;34m(*args, **kwargs)\u001B[0m\n\u001B[1;32m     39\u001B[0m \u001B[38;5;129m@functools\u001B[39m\u001B[38;5;241m.\u001B[39mwraps(func)\n\u001B[1;32m     40\u001B[0m \u001B[38;5;28;01mdef\u001B[39;00m \u001B[38;5;21mwrapper\u001B[39m(\u001B[38;5;241m*\u001B[39margs: Any, \u001B[38;5;241m*\u001B[39m\u001B[38;5;241m*\u001B[39mkwargs: Any) \u001B[38;5;241m-\u001B[39m\u001B[38;5;241m>\u001B[39m Any:\n\u001B[1;32m     41\u001B[0m     \u001B[38;5;28;01mif\u001B[39;00m \u001B[38;5;28mhasattr\u001B[39m(_local, \u001B[38;5;124m\"\u001B[39m\u001B[38;5;124mlogging\u001B[39m\u001B[38;5;124m\"\u001B[39m) \u001B[38;5;129;01mand\u001B[39;00m _local\u001B[38;5;241m.\u001B[39mlogging:\n\u001B[1;32m     42\u001B[0m         \u001B[38;5;66;03m# no need to log since this should be internal call.\u001B[39;00m\n\u001B[0;32m---> 43\u001B[0m         \u001B[38;5;28;01mreturn\u001B[39;00m \u001B[43mfunc\u001B[49m\u001B[43m(\u001B[49m\u001B[38;5;241;43m*\u001B[39;49m\u001B[43margs\u001B[49m\u001B[43m,\u001B[49m\u001B[43m \u001B[49m\u001B[38;5;241;43m*\u001B[39;49m\u001B[38;5;241;43m*\u001B[39;49m\u001B[43mkwargs\u001B[49m\u001B[43m)\u001B[49m\n\u001B[1;32m     44\u001B[0m     _local\u001B[38;5;241m.\u001B[39mlogging \u001B[38;5;241m=\u001B[39m \u001B[38;5;28;01mTrue\u001B[39;00m\n\u001B[1;32m     45\u001B[0m     \u001B[38;5;28;01mtry\u001B[39;00m:\n\nFile \u001B[0;32m/databricks/spark/python/pyspark/sql/dataframe.py:4507\u001B[0m, in \u001B[0;36mDataFrame.corr\u001B[0;34m(self, col1, col2, method)\u001B[0m\n\u001B[1;32m   4502\u001B[0m \u001B[38;5;28;01mif\u001B[39;00m \u001B[38;5;129;01mnot\u001B[39;00m method \u001B[38;5;241m==\u001B[39m \u001B[38;5;124m\"\u001B[39m\u001B[38;5;124mpearson\u001B[39m\u001B[38;5;124m\"\u001B[39m:\n\u001B[1;32m   4503\u001B[0m     \u001B[38;5;28;01mraise\u001B[39;00m \u001B[38;5;167;01mValueError\u001B[39;00m(\n\u001B[1;32m   4504\u001B[0m         \u001B[38;5;124m\"\u001B[39m\u001B[38;5;124mCurrently only the calculation of the Pearson Correlation \u001B[39m\u001B[38;5;124m\"\u001B[39m\n\u001B[1;32m   4505\u001B[0m         \u001B[38;5;241m+\u001B[39m \u001B[38;5;124m\"\u001B[39m\u001B[38;5;124mcoefficient is supported.\u001B[39m\u001B[38;5;124m\"\u001B[39m\n\u001B[1;32m   4506\u001B[0m     )\n\u001B[0;32m-> 4507\u001B[0m \u001B[38;5;28;01mreturn\u001B[39;00m \u001B[38;5;28;43mself\u001B[39;49m\u001B[38;5;241;43m.\u001B[39;49m\u001B[43m_jdf\u001B[49m\u001B[38;5;241;43m.\u001B[39;49m\u001B[43mstat\u001B[49m\u001B[43m(\u001B[49m\u001B[43m)\u001B[49m\u001B[38;5;241;43m.\u001B[39;49m\u001B[43mcorr\u001B[49m\u001B[43m(\u001B[49m\u001B[43mcol1\u001B[49m\u001B[43m,\u001B[49m\u001B[43m \u001B[49m\u001B[43mcol2\u001B[49m\u001B[43m,\u001B[49m\u001B[43m \u001B[49m\u001B[43mmethod\u001B[49m\u001B[43m)\u001B[49m\n\nFile \u001B[0;32m/databricks/spark/python/lib/py4j-0.10.9.5-src.zip/py4j/java_gateway.py:1321\u001B[0m, in \u001B[0;36mJavaMember.__call__\u001B[0;34m(self, *args)\u001B[0m\n\u001B[1;32m   1315\u001B[0m command \u001B[38;5;241m=\u001B[39m proto\u001B[38;5;241m.\u001B[39mCALL_COMMAND_NAME \u001B[38;5;241m+\u001B[39m\\\n\u001B[1;32m   1316\u001B[0m     \u001B[38;5;28mself\u001B[39m\u001B[38;5;241m.\u001B[39mcommand_header \u001B[38;5;241m+\u001B[39m\\\n\u001B[1;32m   1317\u001B[0m     args_command \u001B[38;5;241m+\u001B[39m\\\n\u001B[1;32m   1318\u001B[0m     proto\u001B[38;5;241m.\u001B[39mEND_COMMAND_PART\n\u001B[1;32m   1320\u001B[0m answer \u001B[38;5;241m=\u001B[39m \u001B[38;5;28mself\u001B[39m\u001B[38;5;241m.\u001B[39mgateway_client\u001B[38;5;241m.\u001B[39msend_command(command)\n\u001B[0;32m-> 1321\u001B[0m return_value \u001B[38;5;241m=\u001B[39m \u001B[43mget_return_value\u001B[49m\u001B[43m(\u001B[49m\n\u001B[1;32m   1322\u001B[0m \u001B[43m    \u001B[49m\u001B[43manswer\u001B[49m\u001B[43m,\u001B[49m\u001B[43m \u001B[49m\u001B[38;5;28;43mself\u001B[39;49m\u001B[38;5;241;43m.\u001B[39;49m\u001B[43mgateway_client\u001B[49m\u001B[43m,\u001B[49m\u001B[43m \u001B[49m\u001B[38;5;28;43mself\u001B[39;49m\u001B[38;5;241;43m.\u001B[39;49m\u001B[43mtarget_id\u001B[49m\u001B[43m,\u001B[49m\u001B[43m \u001B[49m\u001B[38;5;28;43mself\u001B[39;49m\u001B[38;5;241;43m.\u001B[39;49m\u001B[43mname\u001B[49m\u001B[43m)\u001B[49m\n\u001B[1;32m   1324\u001B[0m \u001B[38;5;28;01mfor\u001B[39;00m temp_arg \u001B[38;5;129;01min\u001B[39;00m temp_args:\n\u001B[1;32m   1325\u001B[0m     temp_arg\u001B[38;5;241m.\u001B[39m_detach()\n\nFile \u001B[0;32m/databricks/spark/python/pyspark/errors/exceptions.py:234\u001B[0m, in \u001B[0;36mcapture_sql_exception.<locals>.deco\u001B[0;34m(*a, **kw)\u001B[0m\n\u001B[1;32m    230\u001B[0m converted \u001B[38;5;241m=\u001B[39m convert_exception(e\u001B[38;5;241m.\u001B[39mjava_exception)\n\u001B[1;32m    231\u001B[0m \u001B[38;5;28;01mif\u001B[39;00m \u001B[38;5;129;01mnot\u001B[39;00m \u001B[38;5;28misinstance\u001B[39m(converted, UnknownException):\n\u001B[1;32m    232\u001B[0m     \u001B[38;5;66;03m# Hide where the exception came from that shows a non-Pythonic\u001B[39;00m\n\u001B[1;32m    233\u001B[0m     \u001B[38;5;66;03m# JVM exception message.\u001B[39;00m\n\u001B[0;32m--> 234\u001B[0m     \u001B[38;5;28;01mraise\u001B[39;00m converted \u001B[38;5;28;01mfrom\u001B[39;00m \u001B[38;5;28mNone\u001B[39m\n\u001B[1;32m    235\u001B[0m \u001B[38;5;28;01melse\u001B[39;00m:\n\u001B[1;32m    236\u001B[0m     \u001B[38;5;28;01mraise\u001B[39;00m\n\n\u001B[0;31mIllegalArgumentException\u001B[0m: requirement failed: Currently correlation calculation for columns with dataType string not supported.",
       "errorSummary": "<span class='ansi-red-fg'>IllegalArgumentException</span>: requirement failed: Currently correlation calculation for columns with dataType string not supported.",
       "errorTraceType": "ansi",
       "metadata": {},
       "type": "ipynbError"
      }
     },
     "output_type": "display_data"
    }
   ],
   "source": [
    "df_cleaned.stat.corr(\"Total_Mental_Health_Score\", \"Life_Satisfaction_Score\")\n"
   ]
  },
  {
   "cell_type": "code",
   "execution_count": 0,
   "metadata": {
    "application/vnd.databricks.v1+cell": {
     "cellMetadata": {
      "byteLimit": 2048000,
      "rowLimit": 10000
     },
     "inputWidgets": {},
     "nuid": "df0c91b3-627b-417a-8df3-850a74fd4f97",
     "showTitle": false,
     "tableResultSettingsMap": {},
     "title": ""
    }
   },
   "outputs": [
    {
     "output_type": "stream",
     "name": "stdout",
     "output_type": "stream",
     "text": [
      "+----------------------------+---+---+\n|Gender_Code_High_Stress_Flag|  0|  1|\n+----------------------------+---+---+\n|                           3| 15|  6|\n|                           0|404|116|\n|                           1|447|122|\n|                           2| 72| 18|\n+----------------------------+---+---+\n\n"
     ]
    }
   ],
   "source": [
    "df_cleaned.stat.crosstab(\"Gender_Code\", \"High_Stress_Flag\").show()\n"
   ]
  },
  {
   "cell_type": "code",
   "execution_count": 0,
   "metadata": {
    "application/vnd.databricks.v1+cell": {
     "cellMetadata": {
      "byteLimit": 2048000,
      "rowLimit": 10000
     },
     "inputWidgets": {},
     "nuid": "22421984-7162-4e3a-b3c9-0cea8c54609b",
     "showTitle": false,
     "tableResultSettingsMap": {},
     "title": ""
    }
   },
   "outputs": [],
   "source": [
    "pdf = df_cleaned.toPandas()\n"
   ]
  },
  {
   "cell_type": "code",
   "execution_count": 0,
   "metadata": {
    "application/vnd.databricks.v1+cell": {
     "cellMetadata": {
      "byteLimit": 2048000,
      "rowLimit": 10000
     },
     "inputWidgets": {},
     "nuid": "11cef60d-7c5b-497f-9ddf-83a892d0900e",
     "showTitle": false,
     "tableResultSettingsMap": {},
     "title": ""
    }
   },
   "outputs": [
    {
     "output_type": "stream",
     "name": "stdout",
     "output_type": "stream",
     "text": [
      "Out[51]: <AxesSubplot:xlabel='Gender_Code', ylabel='Life_Satisfaction_Score'>"
     ]
    },
    {
     "output_type": "display_data",
     "data": {
      "image/png": "[encoded data removed]"
     },
     "metadata": {
      "application/vnd.databricks.v1+output": {
       "addedWidgets": {},
       "arguments": {},
       "data": "data:image/png;base64,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\n",
       "datasetInfos": [],
       "metadata": {},
       "removedWidgets": [],
       "type": "image"
      }
     },
     "output_type": "display_data"
    }
   ],
   "source": [
    "import seaborn as sns\n",
    "import matplotlib.pyplot as plt\n",
    "\n",
    "sns.boxplot(x=\"Gender_Code\", y=\"Life_Satisfaction_Score\", data=pdf)\n"
   ]
  }
 ],
 "metadata": {
  "application/vnd.databricks.v1+notebook": {
   "computePreferences": null,
   "dashboards": [],
   "environmentMetadata": {
    "base_environment": "",
    "client": "1"
   },
   "language": "python",
   "notebookMetadata": {
    "mostRecentlyExecutedCommandWithImplicitDF": {
     "commandId": 2523299416587852,
     "dataframes": [
      "_sqldf"
     ]
    },
    "pythonIndentUnit": 4
   },
   "notebookName": "Mental_health_pipeline",
   "widgets": {}
  }
 },
 "nbformat": 4,
 "nbformat_minor": 0
}
